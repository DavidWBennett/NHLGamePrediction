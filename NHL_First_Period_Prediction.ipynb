{
 "cells": [
  {
   "cell_type": "markdown",
   "metadata": {},
   "source": [
    "# Load necessary packages"
   ]
  },
  {
   "cell_type": "code",
   "execution_count": 1,
   "metadata": {},
   "outputs": [],
   "source": [
    "import urllib.request, json \n",
    "import pandas as pd\n",
    "from datetime import datetime, timezone, timedelta\n",
    "import time\n",
    "from dateutil.parser import parse\n",
    "from dateutil import tz\n",
    "import numpy as np\n",
    "from sklearn.ensemble import RandomForestClassifier\n",
    "import joblib\n",
    "import collections\n",
    "from sklearn.linear_model import LogisticRegression\n",
    "from sklearn import metrics, preprocessing\n",
    "from matplotlib import pyplot as plt\n",
    "import seaborn as sns\n",
    "from sklearn.model_selection import train_test_split, GridSearchCV, cross_val_score\n",
    "from sklearn.metrics import plot_roc_curve, auc, accuracy_score\n",
    "from sklearn.tree import DecisionTreeClassifier, plot_tree"
   ]
  },
  {
   "cell_type": "markdown",
   "metadata": {},
   "source": [
    "# Connect to the NHL API and request the necessary data"
   ]
  },
  {
   "cell_type": "code",
   "execution_count": 2,
   "metadata": {},
   "outputs": [],
   "source": [
    "def API_reader(link, param =\"\"):\n",
    "    \"\"\"This function calls the NHL API and returns a file in a Dictionary format.\"\"\"\n",
    "    with urllib.request.urlopen(link + param) as url:\n",
    "        data = json.loads(url.read().decode())\n",
    "    return(data)"
   ]
  },
  {
   "cell_type": "markdown",
   "metadata": {},
   "source": [
    "# Find all the game ids for games being played today"
   ]
  },
  {
   "cell_type": "code",
   "execution_count": 3,
   "metadata": {},
   "outputs": [],
   "source": [
    "def NHL_games_today(todays_date, print_binary = 0):\n",
    "    \"\"\"This function looks at all the games being played today (or input any date in 'YYYY-MM-DD' format) then finds their \n",
    "    starting times, and sorts them by starting time. Then it calculates how long to wait between starting times.\"\"\"\n",
    "    games_links = f\"https://statsapi.web.nhl.com/api/v1/schedule?startDate={todays_date}&endDate={todays_date}\"\n",
    "    dates = API_reader(games_links)\n",
    "    num_of_games = dates[\"totalGames\"]\n",
    "    games_id_list = [dates[\"dates\"][0][\"games\"][i][\"gamePk\"] for i in range(num_of_games)]\n",
    "    #Find the difference in seconds between the start times.\n",
    "    if len(games_id_list) > 1:\n",
    "        start_times = []\n",
    "        game_start_dict = {}\n",
    "        for game_id in games_id_list:\n",
    "            data = API_reader(f\"https://statsapi.web.nhl.com/api/v1/game/{game_id}/feed/live\")\n",
    "            start_time = data[\"gameData\"][\"datetime\"][\"dateTime\"]\n",
    "            game_start_dict[str(game_id)] = start_time\n",
    "            start_time = parse(start_time)\n",
    "            start_times.append(start_time)\n",
    "            start_times = sorted(start_times)\n",
    "        delta_seconds_start_times = [(start_times[i+1]- start_times[i]).total_seconds() for i in range(len(start_times)-1)]+ [0]\n",
    "    else:\n",
    "        delta_seconds_start_times = [0]\n",
    "    # Solution to sorting a dict found here: https://stackoverflow.com/questions/613183/how-do-i-sort-a-dictionary-by-value\n",
    "    game_start_dict = {k : v for k, v in sorted(game_start_dict.items(), key=lambda item: item[1])}\n",
    "    games_id_list =[int(j) for j in [k for k in game_start_dict.keys()]]\n",
    "    if print_binary == 1:\n",
    "        print(f\"Number of Games on {todays_date}:\", len(games_id_list))\n",
    "        print(\"Game Ids: \", games_id_list)\n",
    "        print(\"Time (seconds) between start times:\", delta_seconds_start_times)\n",
    "        print(\"Number of unique start times:\", len(set(start_times)))\n",
    "    return((games_id_list, delta_seconds_start_times, game_start_dict, start_times))"
   ]
  },
  {
   "cell_type": "markdown",
   "metadata": {},
   "source": [
    "# Order the games by start time, and then further order the grouped start times by which ones actually start first"
   ]
  },
  {
   "cell_type": "code",
   "execution_count": 4,
   "metadata": {},
   "outputs": [],
   "source": [
    "def regroup_games_by_start_times(games_id_list):\n",
    "    \"\"\"Group the games into lists according to start times. Any games that have the same start time \n",
    "    are put into the same list.\"\"\"\n",
    "    #In order to group the games by their start times I need to reformat the dictionary.\n",
    "    game_start_dict_reformatted = []\n",
    "    for i in range(len(games_id_list)): \n",
    "        game_start_dict_reformatted.append({\"game\" : games_id_list[i], \"start_time\" : start_times[i]})\n",
    "    #Grouping dictionary items: https://www.saltycrane.com/blog/2014/10/example-using-groupby-and-defaultdict-do-same-task/\n",
    "    grouped = collections.defaultdict(list)\n",
    "    for item in game_start_dict_reformatted:\n",
    "        grouped[item['start_time']].append(item)    \n",
    "    game_start_list = []\n",
    "    for i in grouped.items():\n",
    "        game_start_list.append(i[1])\n",
    "    # Now create a list of the games according to their start times.\n",
    "    games_grouped_by_start = []\n",
    "    for j in range(len(game_start_list)):\n",
    "        groups_of_start_times = []\n",
    "        for i in range(len(game_start_list[j])):\n",
    "            groups_of_start_times.append(game_start_list[j][i][\"game\"])\n",
    "        games_grouped_by_start.append(groups_of_start_times)   \n",
    "    return(games_grouped_by_start)"
   ]
  },
  {
   "cell_type": "code",
   "execution_count": 5,
   "metadata": {},
   "outputs": [],
   "source": [
    "#https://stackoverflow.com/questions/3173154/move-an-item-inside-a-list\n",
    "def order_same_start_times(games_id_sublist):\n",
    "    \"\"\"Even though games have the same start times, due to pre-game activities they may start up to 15 minutes after\n",
    "    one another. This function takes the time remaining through the period and reorders the games with the\n",
    "    same start times according to which one will get to the intermission first.\"\"\"\n",
    "    time_remaining = []\n",
    "    for game_id in games_id_sublist:\n",
    "        game_link = f\"https://statsapi.web.nhl.com/api/v1/game/{game_id}/feed/live\"\n",
    "        data = API_reader(game_link)\n",
    "        time_remaining.append(data[\"liveData\"][\"linescore\"][\"currentPeriodTimeRemaining\"])\n",
    "    time_remaining_dict = dict(zip(games_id_sublist, time_remaining))\n",
    "    time_remaining_dict = {k : v for k,v in sorted(time_remaining_dict.items(), key = lambda item: item[1])}\n",
    "    game_id_values = list(time_remaining_dict.values())\n",
    "    game_id_keys = list(time_remaining_dict.keys())\n",
    "    for i in range(len(game_id_values)):\n",
    "        if game_id_values[i] == \"END\":\n",
    "            game_id_keys.insert(0, game_id_keys.pop(i))\n",
    "    return(game_id_keys)"
   ]
  },
  {
   "cell_type": "markdown",
   "metadata": {},
   "source": [
    "# Extract the win, loss, OT records for each team playing. Then find many differences between the home and away stats"
   ]
  },
  {
   "cell_type": "code",
   "execution_count": 6,
   "metadata": {},
   "outputs": [],
   "source": [
    "def _team_records(game_id):  \n",
    "    \"\"\"This function is used to extract the team records for the teams playing today.\"\"\"\n",
    "    game_link = f\"https://statsapi.web.nhl.com/api/v1/game/{game_id}/feed/live\"\n",
    "    data = API_reader(game_link)\n",
    "    away_team_id = data[\"gameData\"][\"teams\"][\"away\"][\"id\"]\n",
    "    home_team_id = data[\"gameData\"][\"teams\"][\"home\"][\"id\"]\n",
    "    for team_id in ([away_team_id] + [home_team_id]):\n",
    "        team_link = f\"https://statsapi.web.nhl.com/api/v1/schedule?teamId={team_id}\"\n",
    "        team_id_data = API_reader(team_link)\n",
    "        home_record = list(team_id_data[\"dates\"][0][\"games\"][0][\"teams\"][\"home\"][\"leagueRecord\"].values())[:3]\n",
    "        away_record = list(team_id_data[\"dates\"][0][\"games\"][0][\"teams\"][\"away\"][\"leagueRecord\"].values())[:3]\n",
    "    return(home_record + away_record)"
   ]
  },
  {
   "cell_type": "code",
   "execution_count": 7,
   "metadata": {},
   "outputs": [],
   "source": [
    "def differences(df):\n",
    "    \"\"\"Used to calculate the feature differences between the home and away teams, and to\n",
    "    convert the percentage features to numeric.\"\"\"\n",
    "    df[\"Win_Diff\"] = df[\"Home_wins\"] - df[\"Away_wins\"]\n",
    "    df[\"Loss_Diff\"] = df[\"Home_losses\"] - df[\"Away_losses\"]\n",
    "    df[\"OT_Diff\"] = df[\"Home_OT\"] - df[\"Away_OT\"]\n",
    "    df[\"Goals_Diff\"] = df[\"Home_goals\"] - df[\"Away_goals\"]\n",
    "    df[\"Shots_Diff\"] = df[\"Home_shots\"] - df[\"Away_shots\"]\n",
    "    df[\"Blocked_Diff\"] = df[\"Home_blocked\"] - df[\"Away_blocked\"]\n",
    "    df[\"PIM_Diff\"] = df[\"Home_pim\"] - df[\"Away_pim\"]\n",
    "    df[\"PowerPlayGoals_Diff\"] = df[\"Home_powerPlayGoals\"] - df[\"Away_powerPlayGoals\"]\n",
    "    df[\"Takeaways_Diff\"] = df[\"Home_takeaways\"] - df[\"Away_takeaways\"]\n",
    "    df[\"Giveaways_Diff\"] = df[\"Home_giveaways\"] - df[\"Away_giveaways\"]\n",
    "    df[\"Hits_Diff\"] = df[\"Home_hits\"] - df[\"Away_hits\"]\n",
    "    df[\"Home_powerPlayPercentage\"] = pd.to_numeric(df[\"Home_powerPlayPercentage\"])/100\n",
    "    df[\"Away_powerPlayPercentage\"] = pd.to_numeric(df[\"Away_powerPlayPercentage\"])/100\n",
    "    df[\"Home_faceOffWinPercentage\"] = pd.to_numeric(df[\"Home_faceOffWinPercentage\"])/100\n",
    "    df[\"Away_faceOffWinPercentage\"] = pd.to_numeric(df[\"Away_faceOffWinPercentage\"])/100\n",
    "    return(df)"
   ]
  },
  {
   "cell_type": "markdown",
   "metadata": {},
   "source": [
    "# Find all the first period stats for the games being played today"
   ]
  },
  {
   "cell_type": "code",
   "execution_count": 8,
   "metadata": {},
   "outputs": [],
   "source": [
    "def _feature_engineering(prep_df, specific_game_id):\n",
    "    \"\"\"This function prepares a teams's first period stats for prediction\"\"\"\n",
    "    df_vars_for_prediction = pd.DataFrame(columns = list(prep_df.columns))\n",
    "    df_vars_for_prediction.loc[str(specific_game_id)] = prep_df.loc[str(specific_game_id)]\n",
    "    df_vars_for_prediction = differences(df_vars_for_prediction)\n",
    "    df_vars_for_prediction[\"Points_Diff\"] = (df_vars_for_prediction[\"Home_wins\"]*2 - df_vars_for_prediction[\"Away_wins\"]*2) + (df_vars_for_prediction[\"Home_OT\"] - df_vars_for_prediction[\"Away_OT\"])\n",
    "    df_vars_for_prediction = df_vars_for_prediction.drop(columns = [\"Home_team\", \"Away_team\", \"Home_wins\", \"Home_losses\", \\\n",
    "                        \"Home_OT\",\"Away_wins\", \"Away_losses\", \"Away_OT\", \\\n",
    "                          \"Win_Diff\", \"Loss_Diff\", \"OT_Diff\", \"Away_faceOffWinPercentage\"])\n",
    "    df_vars_for_prediction.astype(float)\n",
    "    df_vars_for_prediction.reset_index(level = 0, inplace = True)\n",
    "    variables =  df_vars_for_prediction.loc[0]\n",
    "    variables = variables.to_numpy().reshape(1,-1)\n",
    "    # It returns the binary prediction (0 = home team wins; 1 = away team wins) and the predicted probability.\n",
    "    return((model_from_joblib.predict(variables), model_from_joblib.predict_proba(variables)))"
   ]
  },
  {
   "cell_type": "code",
   "execution_count": 9,
   "metadata": {},
   "outputs": [],
   "source": [
    "#https://stackoverflow.com/questions/4563272/convert-a-python-utc-datetime-to-a-local-datetime-using-only-python-standard-lib\n",
    "def when_to_start(first_game):\n",
    "    \"\"\"Often times the code needs to be run before that games have started. This function sleeps until approximatley the\n",
    "    first intermision.\"\"\"\n",
    "    game_link = f\"https://statsapi.web.nhl.com/api/v1/game/{first_game}/feed/live\"\n",
    "    data = API_reader(game_link)\n",
    "    game_start_time = parse(data[\"gameData\"][\"datetime\"][\"dateTime\"])\n",
    "    current_time = datetime.now(timezone.utc)\n",
    "    delta_seconds_to_first_start_time = (game_start_time - current_time).seconds\n",
    "    delta_days_to_first_start_time = (game_start_time - current_time).days\n",
    "    next_start_up_time = current_time + timedelta(seconds = delta_seconds_to_first_start_time + 60*40)\n",
    "    next_start_up_time = next_start_up_time.astimezone(tz.tzlocal())\n",
    "    timestampStr = next_start_up_time.strftime(\"%H:%M\")\n",
    "    print(\"Current time: \", datetime.today().hour, \":\", datetime.today().minute)\n",
    "    print('Next Start Time : ', timestampStr)\n",
    "    if delta_days_to_first_start_time >= 0:\n",
    "        print(\"Sleeping until the first game's intermission, which is in: \", round((delta_seconds_to_first_start_time/60 + 41),0), f\"minutes (approximately {timestampStr}).\")\n",
    "        time.sleep(delta_seconds_to_first_start_time + 60*41)"
   ]
  },
  {
   "cell_type": "markdown",
   "metadata": {},
   "source": [
    "# Track all the first period stats, and make a prediction on who will win the game"
   ]
  },
  {
   "cell_type": "code",
   "execution_count": 10,
   "metadata": {},
   "outputs": [],
   "source": [
    "def calculate_stats(df, games_id_sublist, game_counter, per = 1, state = \"END\"):\n",
    "    \"\"\"This function calcualtes all the available team stats after the specified period for a game. The default\n",
    "    period is set to 1. This function returns a dataframe and the game counter for the day.\"\"\"\n",
    "    Start_time_counter = 0\n",
    "    for game_id in games_id_sublist:\n",
    "        Period = 0 \n",
    "        while Period < 1:\n",
    "            game_link = f\"https://statsapi.web.nhl.com/api/v1/game/{game_id}/feed/live\"\n",
    "            data = API_reader(game_link)\n",
    "            if data[\"liveData\"][\"linescore\"][\"currentPeriod\"] == per and data[\"liveData\"][\"linescore\"][\"currentPeriodTimeRemaining\"] == state: \n",
    "                team_record = _team_records(game_id)\n",
    "                some_columns = [\"Home_team\", \"Away_team\", \"Home_wins\", \"Home_losses\", \"Home_OT\", \"Away_wins\", \"Away_losses\", \"Away_OT\"]\n",
    "                home_team_categories = list(data['liveData']['boxscore']['teams']['home']['teamStats']['teamSkaterStats'].keys())\n",
    "                away_team_categories = list(data['liveData']['boxscore']['teams']['away']['teamStats']['teamSkaterStats'].keys())\n",
    "                home_team_categories = [f\"Home_{i}\" for i in home_team_categories]\n",
    "                away_team_categories = [f\"Away_{i}\" for i in away_team_categories]\n",
    "                home_team = [data[\"gameData\"][\"teams\"][\"home\"][\"triCode\"]]\n",
    "                away_team = [data[\"gameData\"][\"teams\"][\"away\"][\"triCode\"]]\n",
    "                df.columns = some_columns + home_team_categories + away_team_categories\n",
    "                away_team_stats = data['liveData']['boxscore']['teams']['away']['teamStats']['teamSkaterStats']\n",
    "                home_team_stats = data['liveData']['boxscore']['teams']['home']['teamStats']['teamSkaterStats']\n",
    "                home_team_values = list(home_team_stats.values())\n",
    "                away_team_values = list(away_team_stats.values())\n",
    "                df.loc[str(game_id)] = home_team + away_team + team_record + home_team_values + away_team_values\n",
    "                Period = 1\n",
    "                game_counter += 1\n",
    "                #df.to_csv(f\"C:\\\\Users\\\\David\\\\OneDrive\\\\Documents\\\\OneDrive\\\\NHL API First period Prediction\\\\IntermediateDatasets\\\\{todays_date}_raw.csv\", index = True)\n",
    "                print(\"Game \", str(game_counter) ,\"/\", str(len(games_id_list)), f\"ID: {game_id} ({away_team[0]}@{home_team[0]}) completed at: \", str(datetime.today().hour), \":\", str(datetime.today().minute))\n",
    "                prediction = _feature_engineering(df, game_id)[0]\n",
    "                prediction_probs = _feature_engineering(df, game_id)[1]\n",
    "                if int(prediction) == 0:\n",
    "                    print(f\"The team that is predicted to win is: {home_team[0]} with probability {round(prediction_probs[0][0]*100,2)}%\")\n",
    "                else:\n",
    "                    print(f\"The team that is predicted to win is: {away_team[0]} with probability {round(prediction_probs[0][1]*100,2)}%\")\n",
    "                Start_time_counter += 1\n",
    "            else:\n",
    "                Period = 0\n",
    "                print(\"Check Point: \", datetime.today().hour, \":\", datetime.today().minute)\n",
    "                #If the game isn't at the first period yet, wait 4 minutes and try again.\n",
    "                time.sleep(60*4)\n",
    "    return((df, game_counter))"
   ]
  },
  {
   "cell_type": "markdown",
   "metadata": {},
   "source": [
    "# Run the Functions!"
   ]
  },
  {
   "cell_type": "code",
   "execution_count": 11,
   "metadata": {},
   "outputs": [
    {
     "name": "stdout",
     "output_type": "stream",
     "text": [
      "Number of Games on 2020-2-5: 2\n",
      "Game Ids:  [2019020825, 2019020826]\n",
      "Time (seconds) between start times: [1800.0, 0]\n",
      "Number of unique start times: 2\n",
      "Game IDs organized by Start Time: [[2019020825], [2019020826]]\n"
     ]
    }
   ],
   "source": [
    "model_from_joblib = joblib.load(\"C:\\\\Users\\\\David\\\\OneDrive\\\\Documents\\\\OneDrive\\\\NHL API First period Prediction\\\\Classifier_Model.pkl\")\n",
    "todays_date = str(datetime.today().year) + \"-\" + str(datetime.today().month) + \"-\" + str(datetime.today().day)\n",
    "#todays_date = \"2020-1-21\"\n",
    "games_id_list = NHL_games_today(todays_date, 1)[0]\n",
    "delta_seconds_start_times = NHL_games_today(todays_date)[1]\n",
    "game_start_dict = NHL_games_today(todays_date)[2]\n",
    "start_times = NHL_games_today(todays_date)[3]\n",
    "delta_seconds_start_times_unique = [x for x in delta_seconds_start_times if x != 0.0 and type(x) == float]\n",
    "delta_seconds_start_times_unique = delta_seconds_start_times_unique + [600]\n",
    "list_of_groups = regroup_games_by_start_times(games_id_list)\n",
    "print(\"Game IDs organized by Start Time:\", list_of_groups)"
   ]
  },
  {
   "cell_type": "code",
   "execution_count": 12,
   "metadata": {},
   "outputs": [
    {
     "name": "stdout",
     "output_type": "stream",
     "text": [
      "Current time:  16 : 43\n",
      "Next Start Time :  17:09\n"
     ]
    }
   ],
   "source": [
    "first_game = list_of_groups[0][0]\n",
    "when_to_start(first_game)"
   ]
  },
  {
   "cell_type": "code",
   "execution_count": 13,
   "metadata": {},
   "outputs": [
    {
     "name": "stdout",
     "output_type": "stream",
     "text": [
      "Check Point:  16 : 43\n",
      "Check Point:  16 : 47\n",
      "Check Point:  16 : 51\n",
      "Check Point:  16 : 55\n",
      "Check Point:  16 : 59\n",
      "Check Point:  17 : 3\n",
      "Check Point:  17 : 7\n",
      "Check Point:  17 : 12\n",
      "Check Point:  17 : 16\n",
      "Game  1 / 2 ID: 2019020825 (TOR@NYR) completed at:  17 : 20\n",
      "The team that is predicted to win is: NYR with probability 53.0%\n",
      "Now sleeping for 20.0 minutes\n",
      "Check Point:  17 : 40\n",
      "Check Point:  17 : 44\n",
      "Check Point:  17 : 48\n",
      "Game  2 / 2 ID: 2019020826 (BOS@CHI) completed at:  17 : 52\n",
      "The team that is predicted to win is: BOS with probability 54.0%\n",
      "Now sleeping for 0.0 minutes\n"
     ]
    }
   ],
   "source": [
    "game_counter = 0\n",
    "df = pd.DataFrame(columns = [i for i in range(30)])\n",
    "for i in range(0,len(list_of_groups)):\n",
    "    new_order = order_same_start_times(list_of_groups[i])\n",
    "    #print(new_order)\n",
    "    stats_output = calculate_stats(df, new_order, game_counter)#[1]\n",
    "    df = stats_output[0]\n",
    "    game_counter = stats_output[1]\n",
    "    print(\"Now sleeping for\", str(delta_seconds_start_times_unique[i]/60-10),\"minutes\")\n",
    "    time.sleep(delta_seconds_start_times_unique[i]-60*10)"
   ]
  },
  {
   "cell_type": "code",
   "execution_count": null,
   "metadata": {},
   "outputs": [],
   "source": [
    "#time.sleep(60*40*6)\n",
    "#df = pd.DataFrame(columns = [i for i in range(30)])\n",
    "#new_order = order_same_start_times(list_of_groups[0])\n",
    "#print(new_order)\n",
    "#game_counter = 0\n",
    "#stats_output = calculate_stats(df, new_order, game_counter)\n",
    "#df = stats_output[0]\n",
    "#game_counter = stats_output[1]\n",
    "#print(df)"
   ]
  },
  {
   "cell_type": "code",
   "execution_count": null,
   "metadata": {},
   "outputs": [],
   "source": [
    "#new_order = order_same_start_times(list_of_groups[1])\n",
    "#print(new_order)\n",
    "#stats_output = calculate_stats(df, new_order, game_counter)\n",
    "#df = stats_output[0]\n",
    "#game_counter = stats_output[1]\n",
    "#print(df)"
   ]
  },
  {
   "cell_type": "markdown",
   "metadata": {},
   "source": [
    "# Calculate the differences between the home and away team statistics and add them as features in the dataset"
   ]
  },
  {
   "cell_type": "code",
   "execution_count": 14,
   "metadata": {},
   "outputs": [
    {
     "name": "stdout",
     "output_type": "stream",
     "text": [
      "           Home_team Away_team Home_wins Home_losses Home_OT Away_wins  \\\n",
      "2019020818       CBJ       FLA        28          16       9        29   \n",
      "2019020817       WSH       LAK        35          13       5        19   \n",
      "2019020816       NYI       DAL        29          15       6        30   \n",
      "2019020815       NJD       MTL        18          24       9        24   \n",
      "2019020814       TBL       VGK        32          15       5        27   \n",
      "2019020813       BUF       COL        23          22       7        28   \n",
      "2019020812       BOS       VAN        31          10      12        30   \n",
      "2019020819       OTT       ANA        18          24      10        21   \n",
      "2019020820       STL       CAR        31          14       8        30   \n",
      "2019020821       MIN       CHI        23          22       6        25   \n",
      "2019020822       WPG       NSH        26          23       4        24   \n",
      "2019020824       ARI       EDM        26          21       7        28   \n",
      "2019020823       CGY       SJS        27          20       6        22   \n",
      "\n",
      "           Away_losses Away_OT Home_goals Home_pim  ... Loss_Diff  OT_Diff  \\\n",
      "2019020818          17       5          0        0  ...        -1        4   \n",
      "2019020817          29       5          0        2  ...       -16        0   \n",
      "2019020816          18       4          1        2  ...        -3        2   \n",
      "2019020815          23       7          1        0  ...         1        2   \n",
      "2019020814          20       7          2        0  ...        -5       -2   \n",
      "2019020813          16       6          1        0  ...         6        1   \n",
      "2019020812          18       5          1        0  ...        -8        7   \n",
      "2019020819          26       5          0        0  ...        -2        5   \n",
      "2019020820          19       3          1        4  ...        -5        5   \n",
      "2019020821          21       6          0        4  ...         1        0   \n",
      "2019020822          20       7          1        2  ...         3       -3   \n",
      "2019020824          18       6          0        2  ...         3        1   \n",
      "2019020823          27       4          0        5  ...        -7        2   \n",
      "\n",
      "            Goals_Diff  Shots_Diff  Blocked_Diff PIM_Diff PowerPlayGoals_Diff  \\\n",
      "2019020818           0          -1            -1        0                 0.0   \n",
      "2019020817          -1          -2             0        0                 0.0   \n",
      "2019020816           0          11            -3       -2                -1.0   \n",
      "2019020815           1          -1            11       -2                 0.0   \n",
      "2019020814           1          -3            -2        0                 0.0   \n",
      "2019020813          -1           0             2       -2                 0.0   \n",
      "2019020812           1           7            -2       -2                 0.0   \n",
      "2019020819          -1           5            -2       -4                 0.0   \n",
      "2019020820           1           2             4        0                 0.0   \n",
      "2019020821           0           8            -3        2                 0.0   \n",
      "2019020822           0          -6            -3        0                 0.0   \n",
      "2019020824           0           8            -1        2                 0.0   \n",
      "2019020823           0           7             1       -4                 0.0   \n",
      "\n",
      "           Takeaways_Diff Giveaways_Diff Hits_Diff  \n",
      "2019020818              0              4        -2  \n",
      "2019020817             -3              4         5  \n",
      "2019020816             -1             -3         3  \n",
      "2019020815             -1              3        -6  \n",
      "2019020814             -1              2         0  \n",
      "2019020813             -4             -5         6  \n",
      "2019020812              1              2         2  \n",
      "2019020819              0              3        -1  \n",
      "2019020820              2              0         2  \n",
      "2019020821             -2              3         4  \n",
      "2019020822              0              3         3  \n",
      "2019020824              0             -1        -3  \n",
      "2019020823             -3              4         6  \n",
      "\n",
      "[13 rows x 41 columns]\n"
     ]
    }
   ],
   "source": [
    "df_all_features = differences(df)\n",
    "print(df_all_features)\n",
    "df_all_features.to_csv(f\"C:\\\\Users\\\\David\\\\OneDrive\\\\Documents\\\\OneDrive\\\\NHL API First period Prediction\\\\IntermediateDatasets\\\\{todays_date}_df_all_features.csv\", index = True)"
   ]
  },
  {
   "cell_type": "markdown",
   "metadata": {},
   "source": [
    "# Report the Winner"
   ]
  },
  {
   "cell_type": "code",
   "execution_count": 15,
   "metadata": {},
   "outputs": [
    {
     "name": "stdout",
     "output_type": "stream",
     "text": [
      "Last game to finish: 2019020823\n",
      "Sleeping for 45 minutes. Current time:  18 : 46\n",
      "Live\n",
      "<class 'str'>\n",
      "Sleeping for 45 minutes. Current time:  19 : 31\n",
      "Live\n",
      "<class 'str'>\n",
      "Sleeping for 45 minutes. Current time:  20 : 16\n",
      "Live\n",
      "<class 'str'>\n",
      "BOS Wins\n",
      "COL Wins\n",
      "TBL Wins\n",
      "MTL Wins\n",
      "NYI Wins\n",
      "WSH Wins\n",
      "CBJ Wins\n",
      "ANA Wins\n",
      "STL Wins\n",
      "MIN Wins\n",
      "NSH Wins\n",
      "SJS Wins\n",
      "ARI Wins\n"
     ]
    }
   ],
   "source": [
    "print(\"Sleeping for 1.5 hours.\")\n",
    "time.sleep(60*90)\n",
    "last_game_id = df_all_features.iloc[df_all_features.shape[0]-1].name\n",
    "print(\"Last game to finish:\", last_game_id)\n",
    "time_counter = 0\n",
    "while time_counter < 1:\n",
    "    game_link = f\"https://statsapi.web.nhl.com/api/v1/game/{last_game_id}/feed/live\"\n",
    "    data = API_reader(game_link)\n",
    "    if data[\"gameData\"][\"status\"][\"abstractGameState\"] != \"Final\":\n",
    "        print(\"Sleeping for 15 minutes. Current time: \", datetime.today().hour, \":\", datetime.today().minute)\n",
    "        print(data[\"gameData\"][\"status\"][\"abstractGameState\"])\n",
    "        time_counter = 0\n",
    "        time.sleep(60*15)\n",
    "    else:\n",
    "        time_counter = 1\n",
    "        for game_id in games_id_list:\n",
    "            game_link = f\"https://statsapi.web.nhl.com/api/v1/game/{game_id}/feed/live\"\n",
    "            data = API_reader(game_link)\n",
    "            home_team = data[\"gameData\"][\"teams\"][\"home\"][\"triCode\"]\n",
    "            away_team = data[\"gameData\"][\"teams\"][\"away\"][\"triCode\"]\n",
    "            num_periods = len(data[\"liveData\"][\"linescore\"][\"periods\"])\n",
    "            if data[\"liveData\"][\"linescore\"][\"hasShootout\"] == False:\n",
    "                if sum([int(data[\"liveData\"][\"linescore\"][\"periods\"][i][\"home\"][\"goals\"]) for i in range(num_periods)]) > \\\n",
    "                    sum([int(data[\"liveData\"][\"linescore\"][\"periods\"][i][\"away\"][\"goals\"]) for i in range(num_periods)]):#2 for the third period, using 0 indexing\n",
    "                    print(f\"{home_team} Wins\")\n",
    "                    df_all_features.loc[str(game_id), \"Winner\"] = home_team\n",
    "                    df_all_features.loc[str(game_id), \"Winner_binary\"] = 0\n",
    "                else: \n",
    "                    print(f\"{away_team} Wins\")\n",
    "                    df_all_features.loc[str(game_id), \"Winner\"] = away_team\n",
    "                    df_all_features.loc[str(game_id), \"Winner_binary\"] = 1\n",
    "            else:\n",
    "                if int(data[\"liveData\"][\"linescore\"][\"shootoutInfo\"][\"home\"][\"scores\"]) > \\\n",
    "                    int(data[\"liveData\"][\"linescore\"][\"shootoutInfo\"][\"away\"][\"scores\"]):#2 for the third period, using 0 indexing\n",
    "                    print(f\"{home_team} Wins\")\n",
    "                    df_all_features.loc[str(game_id), \"Winner\"] = home_team\n",
    "                    df_all_features.loc[str(game_id), \"Winner_binary\"] = 0\n",
    "                else: \n",
    "                    print(f\"{away_team} Wins\")\n",
    "                    df_all_features.loc[str(game_id), \"Winner\"] = away_team\n",
    "                    df_all_features.loc[str(game_id), \"Winner_binary\"] = 1"
   ]
  },
  {
   "cell_type": "markdown",
   "metadata": {},
   "source": [
    "# Prepare the final dataset for analysis by converting everything to floats"
   ]
  },
  {
   "cell_type": "code",
   "execution_count": 16,
   "metadata": {},
   "outputs": [],
   "source": [
    "df_all_features_copy = df_all_features.copy()\n",
    "df_all_features = df_all_features.drop(columns = [\"Home_team\", \"Away_team\", \"Winner\"])\n",
    "df_all_features.astype(float)\n",
    "df_all_features.to_csv(f\"C:\\\\Users\\\\David\\\\OneDrive\\\\Documents\\\\OneDrive\\\\NHL API First period Prediction\\\\IntermediateDatasets\\\\{todays_date}_df_all_features_winner.csv\", index = True)"
   ]
  },
  {
   "cell_type": "markdown",
   "metadata": {},
   "source": [
    "# Load in the cumulative dataset and append today's games to it"
   ]
  },
  {
   "cell_type": "code",
   "execution_count": 18,
   "metadata": {},
   "outputs": [],
   "source": [
    "df_all_features.reset_index(level = 0, inplace = True)\n",
    "df_all_features = df_all_features.rename(columns = {\"index\": \"Unnamed: 0\"})\n",
    "df2 = pd.read_csv(\"NHLAPIDataset.csv\")\n",
    "df2 = df2.append(df_all_features)\n",
    "df2.to_csv(\"NHLAPIDataset.csv\", index = False)"
   ]
  },
  {
   "cell_type": "markdown",
   "metadata": {},
   "source": [
    "# Update the prediction model"
   ]
  },
  {
   "cell_type": "code",
   "execution_count": 19,
   "metadata": {},
   "outputs": [],
   "source": [
    "df2[\"Points_Diff\"] = (df2[\"Home_wins\"]*2 - df2[\"Away_wins\"]*2) + (df2[\"Home_OT\"] - df2[\"Away_OT\"])\n",
    "df2 = df2.drop(columns = [\"Home_wins\", \"Home_losses\", \"Home_OT\", \\\n",
    "                          \"Away_wins\", \"Away_losses\", \"Away_OT\", \\\n",
    "                          \"Win_Diff\", \"Loss_Diff\", \"OT_Diff\", \"Away_faceOffWinPercentage\"])"
   ]
  },
  {
   "cell_type": "code",
   "execution_count": 20,
   "metadata": {},
   "outputs": [
    {
     "name": "stdout",
     "output_type": "stream",
     "text": [
      "(123, 31) (42, 31)\n"
     ]
    }
   ],
   "source": [
    "X = df2.drop(columns = [\"Winner_binary\"])\n",
    "y = df2[\"Winner_binary\"]\n",
    "#X = tied.iloc[:,:-1]\n",
    "#y = tied.iloc[:,-1]\n",
    "#print(X.columns)\n",
    "#print(y)\n",
    "X_train, X_test, y_train, y_test = train_test_split(X, y, random_state=8)\n",
    "print(X_train.shape, X_test.shape)"
   ]
  },
  {
   "cell_type": "code",
   "execution_count": 21,
   "metadata": {},
   "outputs": [
    {
     "name": "stdout",
     "output_type": "stream",
     "text": [
      "Logistic Regression\n",
      "Score:  0.5212\n",
      "Test Set Accuracy:  0.5\n",
      "CV Mean Accuracy: 0.52 (+/- 0.02)\n"
     ]
    }
   ],
   "source": [
    "clf = LogisticRegression(random_state=8, solver = \"liblinear\").fit(X_train, y_train)\n",
    "print(\"Logistic Regression\")\n",
    "print(\"Score: \", round(clf.score(X,y), 4))\n",
    "pred = clf.predict(X_test)\n",
    "print(\"Test Set Accuracy: \", round(metrics.accuracy_score(pred, y_test), 4))\n",
    "#print(clf.predict_proba(X))\n",
    "scores = cross_val_score(clf, X, y, cv = 5)\n",
    "#print(scores)\n",
    "print(\"CV Mean Accuracy: %0.2f (+/- %0.2f)\" % (scores.mean(), scores.std() * 2))\n",
    "\n",
    "# 1/29/20- 122 games\n",
    "# score: .4918\n",
    "# test accuracy: .3871\n",
    "# accuracy: .51; .02"
   ]
  },
  {
   "cell_type": "code",
   "execution_count": 22,
   "metadata": {},
   "outputs": [
    {
     "name": "stdout",
     "output_type": "stream",
     "text": [
      "Decision Tree\n",
      "Score:  0.903\n",
      "Test Set Accuracy:  0.619\n",
      "CV Mean Accuracy: 0.55 (+/- 0.17)\n"
     ]
    }
   ],
   "source": [
    "clf = DecisionTreeClassifier(random_state = 8).fit(X_train, y_train)\n",
    "print(\"Decision Tree\")\n",
    "print(\"Score: \", round(clf.score(X,y), 4))\n",
    "pred = clf.predict(X_test)\n",
    "print(\"Test Set Accuracy: \", round(metrics.accuracy_score(pred, y_test), 4))\n",
    "scores = cross_val_score(clf, X, y, cv = 5)\n",
    "#print(scores)\n",
    "print(\"CV Mean Accuracy: %0.2f (+/- %0.2f)\" % (scores.mean(), scores.std() * 2))\n",
    "# 1/29/20- 122 games\n",
    "# score: .9016\n",
    "# test accuracy: .6129\n",
    "# accurary: .52; .09\n",
    "#plt.figure(figsize = (20,20))\n",
    "#plot_tree(clf, filled=True, feature_names = X.columns)\n",
    "#plt.show()"
   ]
  },
  {
   "cell_type": "code",
   "execution_count": 23,
   "metadata": {},
   "outputs": [
    {
     "name": "stdout",
     "output_type": "stream",
     "text": [
      "Random Forest\n",
      "Score:  0.9333\n",
      "Test Set Accuracy:  0.7381\n",
      "CV Mean Accuracy: 0.62 (+/- 0.03)\n"
     ]
    }
   ],
   "source": [
    "clf = RandomForestClassifier(random_state = 8).fit(X_train,y_train)\n",
    "print(\"Random Forest\")\n",
    "print(\"Score: \", round(clf.score(X, y), 4))\n",
    "pred = clf.predict(X_test)\n",
    "print(\"Test Set Accuracy: \", round(metrics.accuracy_score(pred, y_test), 4))\n",
    "#print(clf.feature_importances_)\n",
    "#print(clf.predict_proba(X))\n",
    "#fpr, tpr, thresholds = metrics.roc_curve(y_test, pred, pos_label=2)\n",
    "#print(fpr, tpr, thresholds)\n",
    "#metrics.auc(fpr, tpr)\n",
    "scores = cross_val_score(clf, X, y, cv = 5)\n",
    "#print(scores)\n",
    "print(\"CV Mean Accuracy: %0.2f (+/- %0.2f)\" % (scores.mean(), scores.std() * 2))\n",
    "\n",
    "# 1/29/20- 122 games\n",
    "# score: .8689\n",
    "# test accuracy: .4839\n",
    "# accuracy: .57; .19"
   ]
  },
  {
   "cell_type": "code",
   "execution_count": 24,
   "metadata": {},
   "outputs": [
    {
     "data": {
      "image/png": "[encoded data removed]",
      "text/plain": [
       "<Figure size 432x288 with 1 Axes>"
      ]
     },
     "metadata": {
      "needs_background": "light"
     },
     "output_type": "display_data"
    }
   ],
   "source": [
    "feature_importances = set(zip(X.columns, clf.feature_importances_))\n",
    "feature_importances = pd.DataFrame(feature_importances).sort_values(1, ascending = False)\n",
    "feature_importances.columns = [\"Feature\", \"Importance\"]\n",
    "plt.bar(feature_importances[\"Feature\"], feature_importances[\"Importance\"]);\n",
    "plt.xticks(rotation = 90);\n",
    "plt.title(\"Feature Importances\");"
   ]
  },
  {
   "cell_type": "markdown",
   "metadata": {},
   "source": [
    "# Save the new model to be used again later"
   ]
  },
  {
   "cell_type": "code",
   "execution_count": 25,
   "metadata": {},
   "outputs": [],
   "source": [
    "joblib.dump(clf, \"Classifier_Model.pkl\");"
   ]
  }
 ],
 "metadata": {
  "kernelspec": {
   "display_name": "Python 3",
   "language": "python",
   "name": "python3"
  },
  "language_info": {
   "codemirror_mode": {
    "name": "ipython",
    "version": 3
   },
   "file_extension": ".py",
   "mimetype": "text/x-python",
   "name": "python",
   "nbconvert_exporter": "python",
   "pygments_lexer": "ipython3",
   "version": "3.7.5"
  }
 },
 "nbformat": 4,
 "nbformat_minor": 2
}
