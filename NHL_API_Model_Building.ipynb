{
 "cells": [
  {
   "cell_type": "code",
   "execution_count": 1,
   "metadata": {},
   "outputs": [],
   "source": [
    "import pandas as pd\n",
    "from sklearn.linear_model import LogisticRegression\n",
    "from sklearn.ensemble import RandomForestClassifier\n",
    "#import pickle\n",
    "import joblib\n",
    "from datetime import datetime"
   ]
  },
  {
   "cell_type": "code",
   "execution_count": 2,
   "metadata": {},
   "outputs": [
    {
     "name": "stdout",
     "output_type": "stream",
     "text": [
      "(46, 41)\n"
     ]
    }
   ],
   "source": [
    "day = int(str(datetime.today().day))\n",
    "#day = 11\n",
    "file_list = [f\"2020-1-{j}_df_all_features_winner.csv\" for j in [i for i in range(5,day)]]\n",
    "df2  = pd.DataFrame()\n",
    "for k in file_list:\n",
    "    df2 = df2.append(pd.read_csv(k), sort = True)\n",
    "print(df2.shape)\n",
    "#print(df2.columns)\n",
    "#df2"
   ]
  },
  {
   "cell_type": "code",
   "execution_count": 3,
   "metadata": {},
   "outputs": [
    {
     "name": "stdout",
     "output_type": "stream",
     "text": [
      "(46, 32)\n",
      "Index(['Home_goals', 'Home_pim', 'Home_shots', 'Home_powerPlayPercentage',\n",
      "       'Home_powerPlayGoals', 'Home_powerPlayOpportunities',\n",
      "       'Home_faceOffWinPercentage', 'Home_blocked', 'Home_takeaways',\n",
      "       'Home_giveaways', 'Home_hits', 'Away_goals', 'Away_pim', 'Away_shots',\n",
      "       'Away_powerPlayPercentage', 'Away_powerPlayGoals',\n",
      "       'Away_powerPlayOpportunities', 'Away_faceOffWinPercentage',\n",
      "       'Away_blocked', 'Away_takeaways', 'Away_giveaways', 'Away_hits',\n",
      "       'Goals_Diff', 'Shots_Diff', 'Blocked_Diff', 'PIM_Diff',\n",
      "       'PowerPlayGoals_Diff', 'Takeaways_Diff', 'Giveaways_Diff', 'Hits_Diff',\n",
      "       'Points_Diff', 'Winner_binary'],\n",
      "      dtype='object')\n"
     ]
    }
   ],
   "source": [
    "df2[\"Points_Diff\"] = (df2[\"Home_wins\"]*2 - df2[\"Away_wins\"]*2) + (df2[\"Home_OT\"] - df2[\"Away_OT\"])\n",
    "#df2[[\"Home_wins\", \"Home_OT\", \"Away_wins\", \"Away_OT\", \"Points_Diff\"]]\n",
    "#df2 = df2.drop(columns = [\"Home_wins\", \"Home_losses\", \"Home_OT\", \\\n",
    "#                          \"Away_wins\", \"Away_losses\", \"Away_OT\", \\\n",
    "#                          \"Win_Diff\", \"Loss_Diff\", \"OT_Diff\", \"Unnamed: 0\"])\n",
    "#\"Win_Diff\", \"Loss_Diff\", \"OT_Diff\",\n",
    "df2 = df2[[#\"Home_team\", \"Away_team\", \"Home_wins\", \"Home_losses\", \"Home_OT\", \"Away_wins\", \"Away_losses\", \"Away_OT\", \\\n",
    "    \"Home_goals\", \"Home_pim\", \"Home_shots\", \"Home_powerPlayPercentage\", \"Home_powerPlayGoals\", \"Home_powerPlayOpportunities\", \\\n",
    "    \"Home_faceOffWinPercentage\", \"Home_blocked\", \"Home_takeaways\", \"Home_giveaways\", \\\n",
    "    \"Home_hits\", \"Away_goals\", \"Away_pim\", \"Away_shots\", \"Away_powerPlayPercentage\", \"Away_powerPlayGoals\", \\\n",
    "    \"Away_powerPlayOpportunities\", \"Away_faceOffWinPercentage\", \"Away_blocked\", \"Away_takeaways\", \"Away_giveaways\", \\\n",
    "    \"Away_hits\", \"Goals_Diff\", \"Shots_Diff\", \"Blocked_Diff\", \"PIM_Diff\", \\\n",
    "    \"PowerPlayGoals_Diff\", \"Takeaways_Diff\", \"Giveaways_Diff\", \"Hits_Diff\", \"Points_Diff\", \"Winner_binary\"]]\n",
    "print(df2.shape)\n",
    "print(df2.columns)"
   ]
  },
  {
   "cell_type": "code",
   "execution_count": 4,
   "metadata": {},
   "outputs": [],
   "source": [
    "X = df2.iloc[:,:-1]\n",
    "y = df2[\"Winner_binary\"].astype(int)\n",
    "\n",
    "clf = RandomForestClassifier(random_state = 8).fit(X,y)\n",
    "joblib.dump(clf, \"RF_Classifier_Model.pkl\");"
   ]
  },
  {
   "cell_type": "code",
   "execution_count": 5,
   "metadata": {},
   "outputs": [
    {
     "data": {
      "text/plain": [
       "array([0])"
      ]
     },
     "execution_count": 5,
     "metadata": {},
     "output_type": "execute_result"
    }
   ],
   "source": [
    "clf.predict([[0, 2, 14, 0.0, 0.0, 0.0, 0.526, 4, 6, 2, 5, 0, 0, 12, 0.0, 0.0, 1.0, 0.474, 7, 2, 4, 9, 0, 2,\n",
    "  -3, 2, 0.0, 4, -2, -4, -8]])"
   ]
  },
  {
   "cell_type": "code",
   "execution_count": 6,
   "metadata": {},
   "outputs": [
    {
     "data": {
      "text/plain": [
       "1.0"
      ]
     },
     "execution_count": 6,
     "metadata": {},
     "output_type": "execute_result"
    }
   ],
   "source": [
    "clf.score(X,y)"
   ]
  },
  {
   "cell_type": "code",
   "execution_count": 7,
   "metadata": {},
   "outputs": [
    {
     "name": "stdout",
     "output_type": "stream",
     "text": [
      "Winner will be:  [0]\n"
     ]
    },
    {
     "data": {
      "text/plain": [
       "Home_goals                      0.000\n",
       "Home_pim                        2.000\n",
       "Home_shots                     14.000\n",
       "Home_powerPlayPercentage        0.000\n",
       "Home_powerPlayGoals             0.000\n",
       "Home_powerPlayOpportunities     0.000\n",
       "Home_faceOffWinPercentage       0.526\n",
       "Home_blocked                    4.000\n",
       "Home_takeaways                  6.000\n",
       "Home_giveaways                  2.000\n",
       "Home_hits                       5.000\n",
       "Away_goals                      0.000\n",
       "Away_pim                        0.000\n",
       "Away_shots                     12.000\n",
       "Away_powerPlayPercentage        0.000\n",
       "Away_powerPlayGoals             0.000\n",
       "Away_powerPlayOpportunities     1.000\n",
       "Away_faceOffWinPercentage       0.474\n",
       "Away_blocked                    7.000\n",
       "Away_takeaways                  2.000\n",
       "Away_giveaways                  4.000\n",
       "Away_hits                       9.000\n",
       "Goals_Diff                      0.000\n",
       "Shots_Diff                      2.000\n",
       "Blocked_Diff                   -3.000\n",
       "PIM_Diff                        2.000\n",
       "PowerPlayGoals_Diff             0.000\n",
       "Takeaways_Diff                  4.000\n",
       "Giveaways_Diff                 -2.000\n",
       "Hits_Diff                      -4.000\n",
       "Points_Diff                    -8.000\n",
       "Name: 35, dtype: float64"
      ]
     },
     "execution_count": 7,
     "metadata": {},
     "output_type": "execute_result"
    }
   ],
   "source": [
    "print(\"Winner will be: \", clf.predict([list(X.reset_index(drop = True).loc[35])]))\n",
    "[list(X.reset_index(drop = True).loc[35])]\n",
    "X.reset_index(drop = True).loc[35]"
   ]
  },
  {
   "cell_type": "code",
   "execution_count": 12,
   "metadata": {},
   "outputs": [
    {
     "data": {
      "text/plain": [
       "array([0.05719701, 0.01750955, 0.01602797, 0.00578715, 0.00443456,\n",
       "       0.02251184, 0.06493198, 0.02218996, 0.01405747, 0.04855067,\n",
       "       0.0363073 , 0.01854806, 0.02030571, 0.03314533, 0.        ,\n",
       "       0.00105978, 0.01220786, 0.07248142, 0.0335872 , 0.04320858,\n",
       "       0.05317628, 0.0395835 , 0.03053065, 0.04507461, 0.0519004 ,\n",
       "       0.02923542, 0.00500172, 0.01204406, 0.02451815, 0.08553758,\n",
       "       0.07934823])"
      ]
     },
     "execution_count": 12,
     "metadata": {},
     "output_type": "execute_result"
    }
   ],
   "source": [
    "clf.feature_importances_"
   ]
  },
  {
   "cell_type": "code",
   "execution_count": 13,
   "metadata": {},
   "outputs": [
    {
     "ename": "AttributeError",
     "evalue": "'RandomForestClassifier' object has no attribute 'predict_proba_'",
     "output_type": "error",
     "traceback": [
      "\u001b[1;31m---------------------------------------------------------------------------\u001b[0m",
      "\u001b[1;31mAttributeError\u001b[0m                            Traceback (most recent call last)",
      "\u001b[1;32m<ipython-input-13-bf813e051f90>\u001b[0m in \u001b[0;36m<module>\u001b[1;34m\u001b[0m\n\u001b[1;32m----> 1\u001b[1;33m \u001b[0mclf\u001b[0m\u001b[1;33m.\u001b[0m\u001b[0mpredict_proba_\u001b[0m\u001b[1;33m\u001b[0m\u001b[1;33m\u001b[0m\u001b[0m\n\u001b[0m",
      "\u001b[1;31mAttributeError\u001b[0m: 'RandomForestClassifier' object has no attribute 'predict_proba_'"
     ]
    }
   ],
   "source": [
    "clf.predict_proba_"
   ]
  },
  {
   "cell_type": "code",
   "execution_count": null,
   "metadata": {},
   "outputs": [],
   "source": []
  }
 ],
 "metadata": {
  "kernelspec": {
   "display_name": "Python 3",
   "language": "python",
   "name": "python3"
  },
  "language_info": {
   "codemirror_mode": {
    "name": "ipython",
    "version": 3
   },
   "file_extension": ".py",
   "mimetype": "text/x-python",
   "name": "python",
   "nbconvert_exporter": "python",
   "pygments_lexer": "ipython3",
   "version": "3.7.5"
  }
 },
 "nbformat": 4,
 "nbformat_minor": 2
}
