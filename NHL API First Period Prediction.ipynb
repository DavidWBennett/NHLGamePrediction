{
 "cells": [
  {
   "cell_type": "markdown",
   "metadata": {},
   "source": [
    "# Load necessary packages"
   ]
  },
  {
   "cell_type": "code",
   "execution_count": 1,
   "metadata": {},
   "outputs": [],
   "source": [
    "import urllib.request, json \n",
    "import pandas as pd\n",
    "from datetime import datetime, timezone\n",
    "import time\n",
    "from dateutil.parser import parse\n",
    "import numpy as np\n",
    "from sklearn.ensemble import RandomForestClassifier\n",
    "import joblib"
   ]
  },
  {
   "cell_type": "code",
   "execution_count": 2,
   "metadata": {},
   "outputs": [],
   "source": [
    "def API_reader(link, param =\"\"):\n",
    "    \"\"\"This function calls the NHL API and returns a file in a JSON/Dictionary format.\"\"\"\n",
    "    with urllib.request.urlopen(link + param) as url:\n",
    "        data = json.loads(url.read().decode())\n",
    "    return(data)"
   ]
  },
  {
   "cell_type": "markdown",
   "metadata": {},
   "source": [
    "# Find all the game ids for games being played today"
   ]
  },
  {
   "cell_type": "code",
   "execution_count": 3,
   "metadata": {},
   "outputs": [],
   "source": [
    "def NHL_games_today(todays_date, print_binary = 0):\n",
    "    \"\"\"This function looks at all the games being played today (or input any date in 'YYY-MM-DD' format) then finds their \n",
    "    starting times, and sorts them by starting time. Then it calculates how long to wait between starting times.\"\"\"\n",
    "    games_links = f\"https://statsapi.web.nhl.com/api/v1/schedule?startDate={todays_date}&endDate={todays_date}\"\n",
    "    #games_links = f\"https://statsapi.web.nhl.com/api/v1/schedule?startDate=2020-01-02&endDate=2020-01-02\"\n",
    "    dates = API_reader(games_links)\n",
    "    num_of_games = dates[\"totalGames\"]\n",
    "    games_id_list = [dates[\"dates\"][0][\"games\"][i][\"gamePk\"] for i in range(num_of_games)]\n",
    "    #Find the difference in seconds between the start times.\n",
    "    if len(games_id_list) > 1:\n",
    "        start_times = []\n",
    "        game_start_dict = {}\n",
    "        for game_id in games_id_list:\n",
    "            data = API_reader(f\"https://statsapi.web.nhl.com/api/v1/game/{game_id}/feed/live\")\n",
    "            start_time = data[\"gameData\"][\"datetime\"][\"dateTime\"]\n",
    "            game_start_dict[str(game_id)] = start_time\n",
    "            start_time = parse(start_time)\n",
    "            start_times.append(start_time)\n",
    "            start_times = sorted(start_times)\n",
    "        delta_seconds_start_times = [(start_times[i+1]- start_times[i]).total_seconds() for i in range(len(start_times)-1)]+ [0]\n",
    "    else:\n",
    "        delta_seconds_start_times = [0]\n",
    "    # Solution to sorting a dict found here: https://stackoverflow.com/questions/613183/how-do-i-sort-a-dictionary-by-value\n",
    "    game_start_dict = {k : v for k, v in sorted(game_start_dict.items(), key=lambda item: item[1])}\n",
    "    games_id_list =[int(j) for j in [k for k in game_start_dict.keys()]]\n",
    "    if print_binary == 1:\n",
    "        print(f\"Number of Games on {todays_date}:\", len(games_id_list))\n",
    "        print(\"Game Ids: \", games_id_list)\n",
    "        print(delta_seconds_start_times)\n",
    "    return((games_id_list, delta_seconds_start_times))"
   ]
  },
  {
   "cell_type": "markdown",
   "metadata": {},
   "source": [
    "# Find the difference in seconds between the different start times"
   ]
  },
  {
   "cell_type": "code",
   "execution_count": 4,
   "metadata": {},
   "outputs": [],
   "source": [
    "#Use this to only look at select games\n",
    "#games_id_list = [2019020650,2019020651,2019020652]\n",
    "#games_id_list = games_id_list[:8]\n",
    "#print(games_id_list)"
   ]
  },
  {
   "cell_type": "markdown",
   "metadata": {},
   "source": [
    "# Find all the first period stats for the games being played today"
   ]
  },
  {
   "cell_type": "code",
   "execution_count": 4,
   "metadata": {},
   "outputs": [],
   "source": [
    "#Extract the win, loss, OT records for each team playing.\n",
    "def _team_records(game_id):  \n",
    "    \"\"\"This function is used to extract the team records for the teams playing today.\"\"\"\n",
    "    game_link = f\"https://statsapi.web.nhl.com/api/v1/game/{game_id}/feed/live\"\n",
    "    data = API_reader(game_link)\n",
    "    away_team_id = data[\"gameData\"][\"teams\"][\"away\"][\"id\"]\n",
    "    home_team_id = data[\"gameData\"][\"teams\"][\"home\"][\"id\"]\n",
    "    for team_id in ([away_team_id] + [home_team_id]):\n",
    "        team_link = f\"https://statsapi.web.nhl.com/api/v1/schedule?teamId={team_id}\"\n",
    "        team_id_data = API_reader(team_link)\n",
    "        home_record = list(team_id_data[\"dates\"][0][\"games\"][0][\"teams\"][\"home\"][\"leagueRecord\"].values())[:3]\n",
    "        away_record = list(team_id_data[\"dates\"][0][\"games\"][0][\"teams\"][\"away\"][\"leagueRecord\"].values())[:3]\n",
    "    return(home_record + away_record)"
   ]
  },
  {
   "cell_type": "code",
   "execution_count": 5,
   "metadata": {},
   "outputs": [],
   "source": [
    "#df.loc[str(game_id)] = home_team + away_team + team_records + home_team_values + away_team_values\n",
    "def differences(df):\n",
    "    \"\"\"Used to calculate the feature differences between the home and away teams, and to\n",
    "    convert the percentage features to numeric.\"\"\"\n",
    "    df[\"Win_Diff\"] = df[\"Home_wins\"] - df[\"Away_wins\"]\n",
    "    df[\"Loss_Diff\"] = df[\"Home_losses\"] - df[\"Away_losses\"]\n",
    "    df[\"OT_Diff\"] = df[\"Home_OT\"] - df[\"Away_OT\"]\n",
    "    df[\"Goals_Diff\"] = df[\"Home_goals\"] - df[\"Away_goals\"]\n",
    "    df[\"Shots_Diff\"] = df[\"Home_shots\"] - df[\"Away_shots\"]\n",
    "    df[\"Blocked_Diff\"] = df[\"Home_blocked\"] - df[\"Away_blocked\"]\n",
    "    df[\"PIM_Diff\"] = df[\"Home_pim\"] - df[\"Away_pim\"]\n",
    "    df[\"PowerPlayGoals_Diff\"] = df[\"Home_powerPlayGoals\"] - df[\"Away_powerPlayGoals\"]\n",
    "    df[\"Takeaways_Diff\"] = df[\"Home_takeaways\"] - df[\"Away_takeaways\"]\n",
    "    df[\"Giveaways_Diff\"] = df[\"Home_giveaways\"] - df[\"Away_giveaways\"]\n",
    "    df[\"Hits_Diff\"] = df[\"Home_hits\"] - df[\"Away_hits\"]\n",
    "    df[\"Home_powerPlayPercentage\"] = pd.to_numeric(df[\"Home_powerPlayPercentage\"])/100\n",
    "    df[\"Away_powerPlayPercentage\"] = pd.to_numeric(df[\"Away_powerPlayPercentage\"])/100\n",
    "    df[\"Home_faceOffWinPercentage\"] = pd.to_numeric(df[\"Home_faceOffWinPercentage\"])/100\n",
    "    df[\"Away_faceOffWinPercentage\"] = pd.to_numeric(df[\"Away_faceOffWinPercentage\"])/100\n",
    "    return(df)"
   ]
  },
  {
   "cell_type": "code",
   "execution_count": 9,
   "metadata": {},
   "outputs": [
    {
     "name": "stdout",
     "output_type": "stream",
     "text": [
      "2019020704\n"
     ]
    }
   ],
   "source": [
    "RF_from_joblib = joblib.load(\"RF_Classifier_Model.pkl\")\n",
    "#team_name = input(\"Enter your team: \")\n",
    "team_name = 'VAN'\n",
    "data = API_reader(\"https://statsapi.web.nhl.com/api/v1/teams\")\n",
    "team_dict = {}\n",
    "for i in range(len(data[\"teams\"])):\n",
    "    team_dict[data['teams'][i][\"abbreviation\"]] = data['teams'][i][\"id\"]\n",
    "team_id = team_dict[team_name]\n",
    "data = API_reader(f\"https://statsapi.web.nhl.com/api/v1/teams/{team_id}?expand=team.schedule.next\")\n",
    "specific_game_id = data[\"teams\"][0][\"nextGameSchedule\"][\"dates\"][0][\"games\"][0][\"gamePk\"]\n",
    "print(specific_game_id)"
   ]
  },
  {
   "cell_type": "code",
   "execution_count": 7,
   "metadata": {},
   "outputs": [],
   "source": [
    "def prepare_vars_for_prediction(specific_game_id):\n",
    "    \"\"\"This function prepares a pre-selected teams's game for prediction\"\"\"\n",
    "    df_vars_for_prediction = pd.DataFrame(columns = some_columns + home_team_categories + away_team_categories)\n",
    "    df_vars_for_prediction.loc[str(specific_game_id)] = home_team + away_team + team_record + home_team_values + away_team_values\n",
    "    df_vars_for_prediction = differences(df_vars_for_prediction)\n",
    "    #print(df_vars_for_prediction)\n",
    "    df_vars_for_prediction[\"Points_Diff\"] = (df_vars_for_prediction[\"Home_wins\"]*2 - df_vars_for_prediction[\"Away_wins\"]*2) + (df_vars_for_prediction[\"Home_OT\"] - df_vars_for_prediction[\"Away_OT\"])\n",
    "    df_vars_for_prediction = df_vars_for_prediction.drop(columns = [\"Home_team\", \"Away_team\", \"Home_wins\", \\\n",
    "        \"Home_losses\", \"Home_OT\", \"Away_wins\", \"Away_losses\", \"Away_OT\", \"Win_Diff\", \"Loss_Diff\", \"OT_Diff\"])\n",
    "    df_vars_for_prediction.astype(float)\n",
    "    #print(df_vars_for_prediction)\n",
    "    variables =  df_vars_for_prediction.loc[str(specific_game_id)]\n",
    "    variables = variables.to_numpy().reshape(1,-1)\n",
    "    #print(variables)\n",
    "    #print(RF_from_joblib.predict(variables))\n",
    "    return(RF_from_joblib.predict(variables))"
   ]
  },
  {
   "cell_type": "code",
   "execution_count": 8,
   "metadata": {},
   "outputs": [
    {
     "name": "stdout",
     "output_type": "stream",
     "text": [
      "Number of Games on 2020-1-12: 6\n",
      "Game Ids:  [2019020703, 2019020704, 2019020705, 2019020706, 2019020707, 2019020708]\n",
      "[7200.0, 3600.0, 3600.0, 3600.0, 0.0, 0]\n"
     ]
    }
   ],
   "source": [
    "todays_date = str(datetime.today().year) + \"-\" + str(datetime.today().month) + \"-\" + str(datetime.today().day)\n",
    "games_id_list = NHL_games_today(todays_date, 1)[0]\n",
    "delta_seconds_start_times = NHL_games_today(todays_date)[1]"
   ]
  },
  {
   "cell_type": "markdown",
   "metadata": {},
   "source": [
    "Problem: If a game has a promotion beforehand, it will start late. This could lead to the while loop getting caught in an infinte loop waiting for a previous game to finish the first period when the said game is already in the 2nd period.\n",
    "Solution: Create a function that goes through all the games that start at the same time. Then, run this function for as many unique start times as there are, waiting for delta_seconds_start_times after each time the function is run. Create a separate list for each start time."
   ]
  },
  {
   "cell_type": "code",
   "execution_count": 12,
   "metadata": {},
   "outputs": [],
   "source": [
    "groups = [i for i,v in enumerate(delta_seconds_start_times) if v != 0]\n",
    "group1 = (games_id_list[:0], games_id_list[:0])\n",
    "group2 = (games_id_list[0:5], games_id_list[0:5])\n",
    "group3 = (games_id_list[5:6], games_id_list[5:6])\n",
    "group4 = (games_id_list[6:7], games_id_list[6:7])\n",
    "group5 = (games_id_list[7:9], games_id_list[7:9])\n",
    "group6 = (games_id_list[9:], games_id_list[9:])"
   ]
  },
  {
   "cell_type": "code",
   "execution_count": 10,
   "metadata": {},
   "outputs": [
    {
     "name": "stdout",
     "output_type": "stream",
     "text": [
      "Check Point:  11 : 47\n",
      "Game  1 / 6 ID: 2019020703 (['NSH']@['WPG']) completed at:  11 : 50\n",
      "Now sleeping for: 2.0 hours.\n",
      "Game  2 / 6 ID: 2019020704 (['VAN']@['MIN']) completed at:  13 : 50\n",
      "Now sleeping for: 1.0 hours.\n",
      "The team that is predicted to win is: ['VAN']\n",
      "Game  3 / 6 ID: 2019020705 (['BUF']@['DET']) completed at:  14 : 50\n",
      "Now sleeping for: 1.0 hours.\n",
      "Game  4 / 6 ID: 2019020706 (['PIT']@['ARI']) completed at:  15 : 50\n",
      "Now sleeping for: 1.0 hours.\n",
      "Game  5 / 6 ID: 2019020707 (['TOR']@['FLA']) completed at:  16 : 50\n",
      "Game  6 / 6 ID: 2019020708 (['TBL']@['NJD']) completed at:  16 : 50\n"
     ]
    }
   ],
   "source": [
    "#time.sleep(36000)\n",
    "game_counter = 0\n",
    "Start_time_counter = 0\n",
    "df = pd.DataFrame(columns = [i for i in range(30)])\n",
    "#games_id_list = [2019020692]\n",
    "for game_id in games_id_list:\n",
    "    Period = 0 \n",
    "    while Period < 1:\n",
    "        game_link = f\"https://statsapi.web.nhl.com/api/v1/game/{game_id}/feed/live\"\n",
    "        data = API_reader(game_link)\n",
    "        if data[\"liveData\"][\"linescore\"][\"currentPeriod\"] == 1 and data[\"liveData\"][\"linescore\"][\"currentPeriodTimeRemaining\"] == \"END\": \n",
    "            team_record = _team_records(game_id)\n",
    "            some_columns = [\"Home_team\", \"Away_team\", \"Home_wins\", \"Home_losses\", \"Home_OT\", \"Away_wins\", \"Away_losses\", \"Away_OT\"]\n",
    "            home_team_categories = list(data['liveData']['boxscore']['teams']['home']['teamStats']['teamSkaterStats'].keys())\n",
    "            away_team_categories = list(data['liveData']['boxscore']['teams']['away']['teamStats']['teamSkaterStats'].keys())\n",
    "            home_team_categories = [f\"Home_{i}\" for i in home_team_categories]\n",
    "            away_team_categories = [f\"Away_{i}\" for i in away_team_categories]\n",
    "            home_team = [data[\"gameData\"][\"teams\"][\"home\"][\"triCode\"]]\n",
    "            away_team = [data[\"gameData\"][\"teams\"][\"away\"][\"triCode\"]]\n",
    "            df.columns = some_columns + home_team_categories + away_team_categories\n",
    "            away_team_stats = data['liveData']['boxscore']['teams']['away']['teamStats']['teamSkaterStats']\n",
    "            home_team_stats = data['liveData']['boxscore']['teams']['home']['teamStats']['teamSkaterStats']\n",
    "            home_team_values = list(home_team_stats.values())\n",
    "            away_team_values = list(away_team_stats.values())\n",
    "            df.loc[str(game_id)] = home_team + away_team + team_record + home_team_values + away_team_values\n",
    "            Period = 1\n",
    "            game_counter += 1\n",
    "            df.to_csv(f\"C:\\\\Users\\\\David\\\\OneDrive\\\\Documents\\\\OneDrive\\\\NHL API First period Prediction\\\\{todays_date}_raw.csv\", index = True)\n",
    "            print(\"Game \", str(game_counter) ,\"/\", str(len(games_id_list)), f\"ID: {game_id} ({away_team}@{home_team}) completed at: \", str(datetime.today().hour), \":\", str(datetime.today().minute))\n",
    "            if delta_seconds_start_times[Start_time_counter] != 0:\n",
    "                print(\"Now sleeping for:\", str(delta_seconds_start_times[Start_time_counter]/60/60), \"hours.\")\n",
    "            #if game_id == specific_game_id:\n",
    "            prediction = prepare_vars_for_prediction(game_id)   \n",
    "            if int(prediction) == 0:\n",
    "                print(f\"The team that is predicted to win is: {home_team}\")\n",
    "            else:\n",
    "                print(f\"The team that is predicted to win is: {away_team}\")\n",
    "            time.sleep(delta_seconds_start_times[Start_time_counter])\n",
    "            Start_time_counter += 1\n",
    "        else:\n",
    "            Period = 0\n",
    "            print(\"Check Point: \", datetime.today().hour, \":\", datetime.today().minute)\n",
    "            time.sleep(180) "
   ]
  },
  {
   "cell_type": "code",
   "execution_count": 11,
   "metadata": {},
   "outputs": [
    {
     "name": "stdout",
     "output_type": "stream",
     "text": [
      "           Home_team Away_team Home_wins Home_losses Home_OT Away_wins  \\\n",
      "2019020703       WPG       NSH        24          17       4        20   \n",
      "2019020704       MIN       VAN        20          18       6        24   \n",
      "2019020705       DET       BUF        12          30       3        19   \n",
      "2019020706       ARI       PIT        25          18       4        27   \n",
      "2019020707       FLA       TOR        23          16       5        24   \n",
      "2019020708       NJD       TBL        16          21       7        27   \n",
      "\n",
      "           Away_losses Away_OT Home_goals Home_pim  ... Loss_Diff  OT_Diff  \\\n",
      "2019020703          16       7          0        2  ...         1       -3   \n",
      "2019020704          17       4          0        6  ...         1        2   \n",
      "2019020705          19       7          0        6  ...        11       -4   \n",
      "2019020706          12       5          1        4  ...         6       -1   \n",
      "2019020707          15       6          3        2  ...         1       -1   \n",
      "2019020708          13       4          0        2  ...         8        3   \n",
      "\n",
      "            Goals_Diff  Shots_Diff  Blocked_Diff PIM_Diff PowerPlayGoals_Diff  \\\n",
      "2019020703          -1          -7            -2        2                 0.0   \n",
      "2019020704           0          -6            -1        4                 0.0   \n",
      "2019020705          -3          -6             1        4                -1.0   \n",
      "2019020706           0           4             5        0                -1.0   \n",
      "2019020707           3          -3             3        2                 0.0   \n",
      "2019020708           0          -2             0       -4                 0.0   \n",
      "\n",
      "           Takeaways_Diff Giveaways_Diff Hits_Diff  \n",
      "2019020703              1              9         6  \n",
      "2019020704              0              0         3  \n",
      "2019020705             -1              6         4  \n",
      "2019020706              1              1         2  \n",
      "2019020707              2             -2        10  \n",
      "2019020708             -1              0         0  \n",
      "\n",
      "[6 rows x 41 columns]\n"
     ]
    }
   ],
   "source": [
    "df_all_features = differences(df)\n",
    "print(df_all_features)\n",
    "df_all_features.to_csv(f\"C:\\\\Users\\\\David\\\\OneDrive\\\\Documents\\\\OneDrive\\\\NHL API First period Prediction\\\\{todays_date}_df_all_features.csv\", index = True)"
   ]
  },
  {
   "cell_type": "markdown",
   "metadata": {},
   "source": [
    "# Report the Winner"
   ]
  },
  {
   "cell_type": "code",
   "execution_count": 13,
   "metadata": {},
   "outputs": [
    {
     "name": "stdout",
     "output_type": "stream",
     "text": [
      "NSH Wins\n",
      "VAN Wins\n",
      "BUF Wins\n",
      "PIT Wins\n",
      "FLA Wins\n",
      "NJD Wins\n"
     ]
    }
   ],
   "source": [
    "#time.sleep(60*45)\n",
    "for game_id in games_id_list:\n",
    "    game_link = f\"https://statsapi.web.nhl.com/api/v1/game/{game_id}/feed/live\"\n",
    "    data = API_reader(game_link)\n",
    "    home_team = data[\"gameData\"][\"teams\"][\"home\"][\"triCode\"]\n",
    "    away_team = data[\"gameData\"][\"teams\"][\"away\"][\"triCode\"]\n",
    "    num_periods = len(data[\"liveData\"][\"linescore\"][\"periods\"])\n",
    "    if data[\"liveData\"][\"linescore\"][\"hasShootout\"] == False:\n",
    "        if sum([int(data[\"liveData\"][\"linescore\"][\"periods\"][i][\"home\"][\"goals\"]) for i in range(num_periods)]) > \\\n",
    "            sum([int(data[\"liveData\"][\"linescore\"][\"periods\"][i][\"away\"][\"goals\"]) for i in range(num_periods)]):#2 for the third period, using 0 indexing\n",
    "            print(f\"{home_team} Wins\")\n",
    "            df_all_features.loc[str(game_id), \"Winner\"] = home_team\n",
    "            df_all_features.loc[str(game_id), \"Winner_binary\"] = 0\n",
    "        else: \n",
    "            print(f\"{away_team} Wins\")\n",
    "            df_all_features.loc[str(game_id), \"Winner\"] = away_team\n",
    "            df_all_features.loc[str(game_id), \"Winner_binary\"] = 1\n",
    "    else:\n",
    "        if int(data[\"liveData\"][\"linescore\"][\"shootoutInfo\"][\"home\"][\"scores\"]) > \\\n",
    "            int(data[\"liveData\"][\"linescore\"][\"shootoutInfo\"][\"away\"][\"scores\"]):#2 for the third period, using 0 indexing\n",
    "            print(f\"{home_team} Wins\")\n",
    "            df_all_features.loc[str(game_id), \"Winner\"] = home_team\n",
    "            df_all_features.loc[str(game_id), \"Winner_binary\"] = 0\n",
    "        else: \n",
    "            print(f\"{away_team} Wins\")\n",
    "            df_all_features.loc[str(game_id), \"Winner\"] = away_team\n",
    "            df_all_features.loc[str(game_id), \"Winner_binary\"] = 1"
   ]
  },
  {
   "cell_type": "markdown",
   "metadata": {},
   "source": [
    "# Prepare the final dataset for analysis by converting everything to floats"
   ]
  },
  {
   "cell_type": "code",
   "execution_count": 14,
   "metadata": {},
   "outputs": [],
   "source": [
    "df_all_features_copy = df_all_features.copy()\n",
    "df_all_features = df_all_features.drop(columns = [\"Home_team\", \"Away_team\", \"Winner\"])\n",
    "df_all_features.astype(float)\n",
    "df_all_features.to_csv(f\"C:\\\\Users\\\\David\\\\OneDrive\\\\Documents\\\\OneDrive\\\\NHL API First period Prediction\\\\{todays_date}_df_all_features_winner.csv\", index = True)"
   ]
  },
  {
   "cell_type": "code",
   "execution_count": null,
   "metadata": {},
   "outputs": [],
   "source": []
  }
 ],
 "metadata": {
  "kernelspec": {
   "display_name": "Python 3",
   "language": "python",
   "name": "python3"
  },
  "language_info": {
   "codemirror_mode": {
    "name": "ipython",
    "version": 3
   },
   "file_extension": ".py",
   "mimetype": "text/x-python",
   "name": "python",
   "nbconvert_exporter": "python",
   "pygments_lexer": "ipython3",
   "version": "3.7.5"
  }
 },
 "nbformat": 4,
 "nbformat_minor": 2
}
