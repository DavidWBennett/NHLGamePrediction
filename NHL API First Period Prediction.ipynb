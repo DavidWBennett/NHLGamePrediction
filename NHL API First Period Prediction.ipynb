{
 "cells": [
  {
   "cell_type": "markdown",
   "metadata": {},
   "source": [
    "# Load necessary packages"
   ]
  },
  {
   "cell_type": "code",
   "execution_count": 1,
   "metadata": {},
   "outputs": [],
   "source": [
    "import urllib.request, json \n",
    "import pandas as pd\n",
    "from datetime import datetime, timezone\n",
    "import time\n",
    "from dateutil.parser import parse"
   ]
  },
  {
   "cell_type": "markdown",
   "metadata": {},
   "source": [
    "# Find all the game ids for games being played today"
   ]
  },
  {
   "cell_type": "code",
   "execution_count": 14,
   "metadata": {},
   "outputs": [
    {
     "name": "stdout",
     "output_type": "stream",
     "text": [
      "12\n",
      "[2019020627, 2019020628, 2019020629, 2019020630, 2019020631, 2019020632, 2019020633, 2019020634, 2019020635, 2019020636, 2019020637, 2019020638]\n"
     ]
    }
   ],
   "source": [
    "todays_date = str(datetime.today().year) + \"-\" + str(datetime.today().month) + \"-\" + str(datetime.today().day)\n",
    "games_links = f\"https://statsapi.web.nhl.com/api/v1/schedule?startDate={todays_date}&endDate={todays_date}\"\n",
    "#games_links = f\"https://statsapi.web.nhl.com/api/v1/schedule?startDate=2020-01-02&endDate=2020-01-02\"\n",
    "with urllib.request.urlopen(games_links) as url:\n",
    "    dates = json.loads(url.read().decode())\n",
    "num_of_games = dates[\"totalGames\"]\n",
    "games_id_list = [dates[\"dates\"][0][\"games\"][i][\"gamePk\"] for i in range(num_of_games)]\n",
    "games_id_list.sort() #Need to order the game id list so the start times are in order.\n",
    "print(len(games_id_list))\n",
    "print(games_id_list)"
   ]
  },
  {
   "cell_type": "markdown",
   "metadata": {},
   "source": [
    "# Find the difference in seconds between the different start times"
   ]
  },
  {
   "cell_type": "code",
   "execution_count": 5,
   "metadata": {},
   "outputs": [
    {
     "name": "stdout",
     "output_type": "stream",
     "text": [
      "[2019020626]\n"
     ]
    }
   ],
   "source": [
    "#Use this to only look at select games\n",
    "#games_id_list = [2019020615]#, 2019020614]#, 2019020608]\n",
    "#games_id_list = games_id_list[7:]\n",
    "#print(games_id_list)"
   ]
  },
  {
   "cell_type": "code",
   "execution_count": 21,
   "metadata": {},
   "outputs": [
    {
     "name": "stdout",
     "output_type": "stream",
     "text": [
      "11\n",
      "[0.0, 0.0, 0.0, 0.0, 1800.0, 1800.0, 3600.0, 0.0, 1800.0, 1800.0, 0.0]\n"
     ]
    }
   ],
   "source": [
    "if len(games_id_list) > 1:\n",
    "    start_times = []\n",
    "    for game_id in games_id_list:\n",
    "        with urllib.request.urlopen(f\"https://statsapi.web.nhl.com/api/v1/game/{game_id}/feed/live\") as url:\n",
    "            data = json.loads(url.read().decode())\n",
    "        start_time = data[\"gameData\"][\"datetime\"][\"dateTime\"]\n",
    "        #current_time = datetime.now(timezone.utc)\n",
    "        start_time = parse(start_time)\n",
    "        start_times.append(start_time)\n",
    "        start_times = sorted(start_times)\n",
    "    delta_seconds_start_times = [(start_times[i+1]- start_times[i]).total_seconds() for i in range(len(start_times)-1)]\n",
    "else:\n",
    "    delta_seconds_start_times = [0]\n",
    "print(len(delta_seconds_start_times))\n",
    "print(delta_seconds_start_times)"
   ]
  },
  {
   "cell_type": "markdown",
   "metadata": {},
   "source": [
    "# Find all the first period stats for the games being played today"
   ]
  },
  {
   "cell_type": "code",
   "execution_count": 7,
   "metadata": {},
   "outputs": [],
   "source": [
    "#Extract the win, loss, OT records for each team playing.\n",
    "def _team_records(game_id):  \n",
    "        """This function is used to calculate the W/L/OT record for the home and away team on the day they are playing"""
    "        game_link = f\"https://statsapi.web.nhl.com/api/v1/game/{game_id}/feed/live\"\n",
    "        #print(game_link)\n",
    "        with urllib.request.urlopen(game_link) as url:\n",
    "            data = json.loads(url.read().decode())\n",
    "        away_team_id = data[\"gameData\"][\"teams\"][\"away\"][\"id\"]\n",
    "        home_team_id = data[\"gameData\"][\"teams\"][\"home\"][\"id\"]\n",
    "        #print([away_team_id] + [home_team_id])\n",
    "        for team_id in ([away_team_id] + [home_team_id]):\n",
    "            team_link = f\"https://statsapi.web.nhl.com/api/v1/schedule?teamId={team_id}\"\n",
    "            with urllib.request.urlopen(team_link) as url:\n",
    "                team_id_data = json.loads(url.read().decode())\n",
    "            home_record = list(team_id_data[\"dates\"][0][\"games\"][0][\"teams\"][\"home\"][\"leagueRecord\"].values())[:3]\n",
    "            away_record = list(team_id_data[\"dates\"][0][\"games\"][0][\"teams\"][\"away\"][\"leagueRecord\"].values())[:3]\n",
    "        #print(home_record + away_record)\n",
    "        return(home_record + away_record)"
   ]
  },
  {
   "cell_type": "code",
   "execution_count": 8,
   "metadata": {},
   "outputs": [],
   "source": [
    "#df.loc[str(game_id)] = home_team + away_team + team_records + home_team_values + away_team_values\n",
    "def differences(df):\n",
    "    df[\"Win_Diff\"] = df[\"Home_wins\"] - df[\"Away_wins\"]\n",
    "    df[\"Loss_Diff\"] = df[\"Home_losses\"] - df[\"Away_losses\"]\n",
    "    df[\"OT_Diff\"] = df[\"Home_OT\"] - df[\"Away_OT\"]\n",
    "    df[\"Goals_Diff\"] = df[\"Home_goals\"] - df[\"Away_goals\"]\n",
    "    df[\"Shots_Diff\"] = df[\"Home_shots\"] - df[\"Away_shots\"]\n",
    "    df[\"Blocked_Diff\"] = df[\"Home_blocked\"] - df[\"Away_blocked\"]\n",
    "    df[\"PIM_Diff\"] = df[\"Home_pim\"] - df[\"Away_pim\"]\n",
    "    df[\"PowerPlayGoals_Diff\"] = df[\"Home_powerPlayGoals\"] - df[\"Away_powerPlayGoals\"]\n",
    "    df[\"Takeaways_Diff\"] = df[\"Home_takeaways\"] - df[\"Away_takeaways\"]\n",
    "    df[\"Giveaways_Diff\"] = df[\"Home_giveaways\"] - df[\"Away_giveaways\"]\n",
    "    df[\"Hits_Diff\"] = df[\"Home_hits\"] - df[\"Away_hits\"]\n",
    "    df[\"Home_powerPlayPercentage\"] = pd.to_numeric(df[\"Home_powerPlayPercentage\"])/100\n",
    "    df[\"Away_powerPlayPercentage\"] = pd.to_numeric(df[\"Away_powerPlayPercentage\"])/100\n",
    "    df[\"Home_faceOffWinPercentage\"] = pd.to_numeric(df[\"Home_faceOffWinPercentage\"])/100\n",
    "    df[\"Away_faceOffWinPercentage\"] = pd.to_numeric(df[\"Away_faceOffWinPercentage\"])/100\n",
    "    return(df)"
   ]
  },
  {
   "cell_type": "code",
   "execution_count": 9,
   "metadata": {},
   "outputs": [
    {
     "name": "stdout",
     "output_type": "stream",
     "text": [
      "2019020626\n",
      "11 : 29\n",
      "11 : 34\n",
      "11 : 39\n",
      "11 : 44\n",
      "Game  1 / 1 . ID: 2019020626 completed at:  11 : 49\n"
     ]
    }
   ],
   "source": [
    "game_counter = 0\n",
    "df = pd.DataFrame(columns = [i for i in range(30)])\n",
    "for game_id in games_id_list:\n",
    "    #print(game_id)\n",
    "    Period = 0 \n",
    "    Start_time_counter = 0\n",
    "    while Period < 1:\n",
    "        game_link = f\"https://statsapi.web.nhl.com/api/v1/game/{game_id}/feed/live\"\n",
    "        with urllib.request.urlopen(game_link) as url:\n",
    "            data = json.loads(url.read().decode())\n",
    "        if data[\"liveData\"][\"linescore\"][\"currentPeriod\"] == 1 and data[\"liveData\"][\"linescore\"][\"currentPeriodTimeRemaining\"] == \"END\": \n",
    "            team_record = team_records(game_id)\n",
    "            some_columns = [\"Home_team\", \"Away_team\", \"Home_wins\", \"Home_losses\", \"Home_OT\", \"Away_wins\", \"Away_losses\", \"Away_OT\"]\n",
    "            home_team_categories = list(data['liveData']['boxscore']['teams']['home']['teamStats']['teamSkaterStats'].keys())\n",
    "            away_team_categories = list(data['liveData']['boxscore']['teams']['away']['teamStats']['teamSkaterStats'].keys())\n",
    "            home_team_categories = [f\"Home_{i}\" for i in home_team_categories]\n",
    "            away_team_categories = [f\"Away_{i}\" for i in away_team_categories]\n",
    "            home_team = [data[\"gameData\"][\"teams\"][\"home\"][\"triCode\"]]\n",
    "            away_team = [data[\"gameData\"][\"teams\"][\"away\"][\"triCode\"]]\n",
    "            #df.columns = [\"home_team\"] + [\"away_team\"] + home_team_categories + away_team_categories\n",
    "            df.columns = some_columns + home_team_categories + away_team_categories\n",
    "            away_team_stats = data['liveData']['boxscore']['teams']['away']['teamStats']['teamSkaterStats']\n",
    "            home_team_stats = data['liveData']['boxscore']['teams']['home']['teamStats']['teamSkaterStats']\n",
    "            home_team_values = list(home_team_stats.values())\n",
    "            away_team_values = list(away_team_stats.values())\n",
    "            df.loc[str(game_id)] = home_team + away_team + team_record + home_team_values + away_team_values\n",
    "            #print(df)\n",
    "            Period = 1\n",
    "            game_counter += 1\n",
    "            print(\"Game \", str(game_counter) ,\"/\", str(len(games_id_list)), f\". ID: {game_id} completed at: \", str(datetime.today().hour), \":\", str(datetime.today().minute))\n",
    "            time.sleep(delta_seconds_start_times[Start_time_counter])\n",
    "            Start_time_counter += 1\n",
    "        else:\n",
    "            Period = 0\n",
    "            print(datetime.today().hour, \":\", datetime.today().minute)\n",
    "            time.sleep(300) "
   ]
  },
  {
   "cell_type": "code",
   "execution_count": 10,
   "metadata": {},
   "outputs": [
    {
     "data": {
      "text/html": [
       "<div>\n",
       "<style scoped>\n",
       "    .dataframe tbody tr th:only-of-type {\n",
       "        vertical-align: middle;\n",
       "    }\n",
       "\n",
       "    .dataframe tbody tr th {\n",
       "        vertical-align: top;\n",
       "    }\n",
       "\n",
       "    .dataframe thead th {\n",
       "        text-align: right;\n",
       "    }\n",
       "</style>\n",
       "<table border=\"1\" class=\"dataframe\">\n",
       "  <thead>\n",
       "    <tr style=\"text-align: right;\">\n",
       "      <th></th>\n",
       "      <th>Home_team</th>\n",
       "      <th>Away_team</th>\n",
       "      <th>Home_wins</th>\n",
       "      <th>Home_losses</th>\n",
       "      <th>Home_OT</th>\n",
       "      <th>Away_wins</th>\n",
       "      <th>Away_losses</th>\n",
       "      <th>Away_OT</th>\n",
       "      <th>Home_goals</th>\n",
       "      <th>Home_pim</th>\n",
       "      <th>...</th>\n",
       "      <th>Loss_Diff</th>\n",
       "      <th>OT_Diff</th>\n",
       "      <th>Goals_Diff</th>\n",
       "      <th>Shots_Diff</th>\n",
       "      <th>Blocked_Diff</th>\n",
       "      <th>PIM_Diff</th>\n",
       "      <th>PowerPlayGoals_Diff</th>\n",
       "      <th>Takeaways_Diff</th>\n",
       "      <th>Giveaways_Diff</th>\n",
       "      <th>Hits_Diff</th>\n",
       "    </tr>\n",
       "  </thead>\n",
       "  <tbody>\n",
       "    <tr>\n",
       "      <th>2019020626</th>\n",
       "      <td>DAL</td>\n",
       "      <td>NSH</td>\n",
       "      <td>22</td>\n",
       "      <td>14</td>\n",
       "      <td>4</td>\n",
       "      <td>18</td>\n",
       "      <td>14</td>\n",
       "      <td>6</td>\n",
       "      <td>0</td>\n",
       "      <td>19</td>\n",
       "      <td>...</td>\n",
       "      <td>0</td>\n",
       "      <td>-2</td>\n",
       "      <td>-2</td>\n",
       "      <td>-2</td>\n",
       "      <td>2</td>\n",
       "      <td>17</td>\n",
       "      <td>-2.0</td>\n",
       "      <td>2</td>\n",
       "      <td>1</td>\n",
       "      <td>5</td>\n",
       "    </tr>\n",
       "  </tbody>\n",
       "</table>\n",
       "<p>1 rows × 41 columns</p>\n",
       "</div>"
      ],
      "text/plain": [
       "           Home_team Away_team Home_wins Home_losses Home_OT Away_wins  \\\n",
       "2019020626       DAL       NSH        22          14       4        18   \n",
       "\n",
       "           Away_losses Away_OT Home_goals Home_pim    ...    Loss_Diff  \\\n",
       "2019020626          14       6          0       19    ...            0   \n",
       "\n",
       "            OT_Diff  Goals_Diff  Shots_Diff  Blocked_Diff PIM_Diff  \\\n",
       "2019020626       -2          -2          -2             2       17   \n",
       "\n",
       "           PowerPlayGoals_Diff Takeaways_Diff Giveaways_Diff Hits_Diff  \n",
       "2019020626                -2.0              2              1         5  \n",
       "\n",
       "[1 rows x 41 columns]"
      ]
     },
     "execution_count": 10,
     "metadata": {},
     "output_type": "execute_result"
    }
   ],
   "source": [
    "df.columns\n",
    "df_all_features = differences(df)\n",
    "df_all_features"
   ]
  },
  {
   "cell_type": "markdown",
   "metadata": {},
   "source": [
    "# Report the Winner"
   ]
  },
  {
   "cell_type": "code",
   "execution_count": 11,
   "metadata": {},
   "outputs": [
    {
     "name": "stdout",
     "output_type": "stream",
     "text": [
      "DAL Wins\n"
     ]
    }
   ],
   "source": [
    "for game_id in games_id_list:\n",
    "    game_link = f\"https://statsapi.web.nhl.com/api/v1/game/{game_id}/feed/live\"\n",
    "    with urllib.request.urlopen(game_link) as url:\n",
    "        data = json.loads(url.read().decode())\n",
    "    home_team = data[\"gameData\"][\"teams\"][\"home\"][\"triCode\"]\n",
    "    away_team = data[\"gameData\"][\"teams\"][\"away\"][\"triCode\"]\n",
    "    num_periods = len(data[\"liveData\"][\"linescore\"][\"periods\"])\n",
    "    if data[\"liveData\"][\"linescore\"][\"hasShootout\"] == False:\n",
    "        if sum([int(data[\"liveData\"][\"linescore\"][\"periods\"][i][\"home\"][\"goals\"]) for i in range(num_periods)]) > \\\n",
    "            sum([int(data[\"liveData\"][\"linescore\"][\"periods\"][i][\"away\"][\"goals\"]) for i in range(num_periods)]):#2 for the third period, using 0 indexing\n",
    "            print(f\"{home_team} Wins\")\n",
    "            df_all_features.loc[str(game_id), \"Winner\"] = home_team\n",
    "            df_all_features.loc[str(game_id), \"Winner_binary\"] = 0\n",
    "        else: \n",
    "            print(f\"{away_team} Wins\")\n",
    "            df_all_features.loc[str(game_id), \"Winner\"] = away_team\n",
    "            df_all_features.loc[str(game_id), \"Winner_binary\"] = 1\n",
    "    else:\n",
    "        if int(data[\"liveData\"][\"linescore\"][\"shootoutInfo\"][\"home\"][\"scores\"]) > \\\n",
    "            int(data[\"liveData\"][\"linescore\"][\"shootoutInfo\"][\"away\"][\"scores\"]):#2 for the third period, using 0 indexing\n",
    "            print(f\"{home_team} Wins\")\n",
    "            df_all_features.loc[str(game_id), \"Winner\"] = home_team\n",
    "            df_all_features.loc[str(game_id), \"Winner_binary\"] = 0\n",
    "        else: \n",
    "            print(f\"{away_team} Wins\")\n",
    "            df_all_features.loc[str(game_id), \"Winner\"] = away_team\n",
    "            df_all_features.loc[str(game_id), \"Winner_binary\"] = 1"
   ]
  },
  {
   "cell_type": "markdown",
   "metadata": {},
   "source": [
    "# Prepare the final dataset for analysis by converting everything to floats"
   ]
  },
  {
   "cell_type": "code",
   "execution_count": 12,
   "metadata": {},
   "outputs": [],
   "source": [
    "df_all_features_copy = df_all_features.copy()\n",
    "df_all_features = df_all_features.drop(columns = [\"Home_team\", \"Away_team\", \"Winner\"])\n",
    "df_all_features.astype(float)\n",
    "df_all_features.to_csv(f\"C:\\\\Users\\\\David\\\\OneDrive\\\\Documents\\\\OneDrive\\\\NHL API First period Prediction\\\\{todays_date}_df_all_features.csv\", index = True)"
   ]
  }
 ],
 "metadata": {
  "kernelspec": {
   "display_name": "Python 3",
   "language": "python",
   "name": "python3"
  },
  "language_info": {
   "codemirror_mode": {
    "name": "ipython",
    "version": 3
   },
   "file_extension": ".py",
   "mimetype": "text/x-python",
   "name": "python",
   "nbconvert_exporter": "python",
   "pygments_lexer": "ipython3",
   "version": "3.7.1"
  }
 },
 "nbformat": 4,
 "nbformat_minor": 2
}
