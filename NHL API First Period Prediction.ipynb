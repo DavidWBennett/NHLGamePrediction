{
 "cells": [
  {
   "cell_type": "code",
   "execution_count": 2,
   "metadata": {},
   "outputs": [],
   "source": [
    "import urllib.request, json "
   ]
  },
  {
   "cell_type": "code",
   "execution_count": 3,
   "metadata": {},
   "outputs": [],
   "source": [
    "#link = \"https://statsapi.web.nhl.com/api/v1/teams/8\"\n",
    "link = \"https://statsapi.web.nhl.com/api/v1/game/2019020417/feed/live\" #all available stats from game\n",
    "#link = \"https://statsapi.web.nhl.com/api/v1/game/2019020417/boxscore\" #boxscore"
   ]
  },
  {
   "cell_type": "code",
   "execution_count": 4,
   "metadata": {},
   "outputs": [],
   "source": [
    "with urllib.request.urlopen(link) as url:\n",
    "    data = json.loads(url.read().decode())"
   ]
  },
  {
   "cell_type": "markdown",
   "metadata": {},
   "source": [
    "# Data. Currently for all periods. Need to adjust to be just the first period. "
   ]
  },
  {
   "cell_type": "code",
   "execution_count": 5,
   "metadata": {},
   "outputs": [],
   "source": [
    "data['liveData']['boxscore']['teams']['home']['teamStats']['teamSkaterStats']\n",
    "#goals, pim, shots, powerPlayPercentage, powerPlayGoals, powerPlayOpportunities, faceoffWinPercentage = data['liveData']['boxscore']['teams']['away']['teamStats']['teamSkaterStats']\n",
    "away_team_stats = data['liveData']['boxscore']['teams']['away']['teamStats']['teamSkaterStats']\n",
    "home_team_stats = data['liveData']['boxscore']['teams']['home']['teamStats']['teamSkaterStats']\n"
   ]
  },
  {
   "cell_type": "code",
   "execution_count": 6,
   "metadata": {},
   "outputs": [],
   "source": [
    "home_team_categories = list(home_team_stats.keys())\n",
    "home_team_values = list(home_team_stats.values())\n",
    "away_team_categories = list(away_team_stats.keys())\n",
    "away_team_values = list(away_team_stats.values())"
   ]
  },
  {
   "cell_type": "code",
   "execution_count": 7,
   "metadata": {},
   "outputs": [],
   "source": [
    "home_team_categories = [f\"Home_{i}\" for i in home_team_categories]\n",
    "away_team_categories = [f\"Away_{i}\" for i in away_team_categories]"
   ]
  },
  {
   "cell_type": "code",
   "execution_count": 8,
   "metadata": {},
   "outputs": [],
   "source": [
    "import pandas as pd\n",
    "df = pd.DataFrame(columns = home_team_categories + away_team_categories)\n",
    "df.loc[\"2019020417\"] = home_team_values + away_team_values"
   ]
  },
  {
   "cell_type": "code",
   "execution_count": 9,
   "metadata": {},
   "outputs": [
    {
     "data": {
      "text/html": [
       "<div>\n",
       "<style scoped>\n",
       "    .dataframe tbody tr th:only-of-type {\n",
       "        vertical-align: middle;\n",
       "    }\n",
       "\n",
       "    .dataframe tbody tr th {\n",
       "        vertical-align: top;\n",
       "    }\n",
       "\n",
       "    .dataframe thead th {\n",
       "        text-align: right;\n",
       "    }\n",
       "</style>\n",
       "<table border=\"1\" class=\"dataframe\">\n",
       "  <thead>\n",
       "    <tr style=\"text-align: right;\">\n",
       "      <th></th>\n",
       "      <th>Home_goals</th>\n",
       "      <th>Home_pim</th>\n",
       "      <th>Home_shots</th>\n",
       "      <th>Home_powerPlayPercentage</th>\n",
       "      <th>Home_powerPlayGoals</th>\n",
       "      <th>Home_powerPlayOpportunities</th>\n",
       "      <th>Home_faceOffWinPercentage</th>\n",
       "      <th>Home_blocked</th>\n",
       "      <th>Home_takeaways</th>\n",
       "      <th>Home_giveaways</th>\n",
       "      <th>...</th>\n",
       "      <th>Away_pim</th>\n",
       "      <th>Away_shots</th>\n",
       "      <th>Away_powerPlayPercentage</th>\n",
       "      <th>Away_powerPlayGoals</th>\n",
       "      <th>Away_powerPlayOpportunities</th>\n",
       "      <th>Away_faceOffWinPercentage</th>\n",
       "      <th>Away_blocked</th>\n",
       "      <th>Away_takeaways</th>\n",
       "      <th>Away_giveaways</th>\n",
       "      <th>Away_hits</th>\n",
       "    </tr>\n",
       "  </thead>\n",
       "  <tbody>\n",
       "    <tr>\n",
       "      <th>2019020417</th>\n",
       "      <td>3</td>\n",
       "      <td>4</td>\n",
       "      <td>34</td>\n",
       "      <td>33.3</td>\n",
       "      <td>1.0</td>\n",
       "      <td>3.0</td>\n",
       "      <td>41.1</td>\n",
       "      <td>16</td>\n",
       "      <td>10</td>\n",
       "      <td>4</td>\n",
       "      <td>...</td>\n",
       "      <td>8</td>\n",
       "      <td>29</td>\n",
       "      <td>0.0</td>\n",
       "      <td>0.0</td>\n",
       "      <td>1.0</td>\n",
       "      <td>58.9</td>\n",
       "      <td>12</td>\n",
       "      <td>15</td>\n",
       "      <td>7</td>\n",
       "      <td>28</td>\n",
       "    </tr>\n",
       "  </tbody>\n",
       "</table>\n",
       "<p>1 rows × 22 columns</p>\n",
       "</div>"
      ],
      "text/plain": [
       "           Home_goals Home_pim Home_shots Home_powerPlayPercentage  \\\n",
       "2019020417          3        4         34                     33.3   \n",
       "\n",
       "            Home_powerPlayGoals  Home_powerPlayOpportunities  \\\n",
       "2019020417                  1.0                          3.0   \n",
       "\n",
       "           Home_faceOffWinPercentage Home_blocked Home_takeaways  \\\n",
       "2019020417                      41.1           16             10   \n",
       "\n",
       "           Home_giveaways    ...    Away_pim Away_shots  \\\n",
       "2019020417              4    ...           8         29   \n",
       "\n",
       "           Away_powerPlayPercentage Away_powerPlayGoals  \\\n",
       "2019020417                      0.0                 0.0   \n",
       "\n",
       "           Away_powerPlayOpportunities  Away_faceOffWinPercentage  \\\n",
       "2019020417                         1.0                       58.9   \n",
       "\n",
       "            Away_blocked Away_takeaways Away_giveaways Away_hits  \n",
       "2019020417            12             15              7        28  \n",
       "\n",
       "[1 rows x 22 columns]"
      ]
     },
     "execution_count": 9,
     "metadata": {},
     "output_type": "execute_result"
    }
   ],
   "source": [
    "df"
   ]
  },
  {
   "cell_type": "markdown",
   "metadata": {},
   "source": [
    "# Need to find the final score and identify the home team as features."
   ]
  },
  {
   "cell_type": "code",
   "execution_count": null,
   "metadata": {},
   "outputs": [],
   "source": [
    "#Not sure I need this\n",
    "type(data['liveData']) #dictionay\n",
    "data['liveData'].keys() # plays, linescore, boxscore, decisions\n",
    "data['liveData']['linescore']\n",
    "data['liveData']['boxscore']['teams']['home'].keys()\n",
    "data['liveData']['boxscore']['teams']['away']['teamStats']\n",
    "data['liveData']['boxscore']['teams']['away']['teamStats']['teamSkaterStats'] #This is good up to here"
   ]
  }
 ],
 "metadata": {
  "kernelspec": {
   "display_name": "Python 3",
   "language": "python",
   "name": "python3"
  },
  "language_info": {
   "codemirror_mode": {
    "name": "ipython",
    "version": 3
   },
   "file_extension": ".py",
   "mimetype": "text/x-python",
   "name": "python",
   "nbconvert_exporter": "python",
   "pygments_lexer": "ipython3",
   "version": "3.7.1"
  }
 },
 "nbformat": 4,
 "nbformat_minor": 2
}
