{
 "cells": [
  {
   "cell_type": "code",
   "execution_count": 1,
   "metadata": {},
   "outputs": [],
   "source": [
    "import urllib.request, json "
   ]
  },
  {
   "cell_type": "code",
   "execution_count": 52,
   "metadata": {},
   "outputs": [],
   "source": [
    "#link = \"https://statsapi.web.nhl.com/api/v1/teams/8\"\n",
    "link = \"https://statsapi.web.nhl.com/api/v1/game/2019020417/feed/live\" #all available stats from game\n",
    "#link = \"https://statsapi.web.nhl.com/api/v1/game/2019020417/boxscore\" #boxscore"
   ]
  },
  {
   "cell_type": "code",
   "execution_count": 53,
   "metadata": {},
   "outputs": [],
   "source": [
    "with urllib.request.urlopen(link) as url:\n",
    "    data = json.loads(url.read().decode())"
   ]
  },
  {
   "cell_type": "markdown",
   "metadata": {},
   "source": [
    "# Data. Currently for all periods. Need to adjust to be just the first period. "
   ]
  },
  {
   "cell_type": "code",
   "execution_count": 68,
   "metadata": {},
   "outputs": [
    {
     "data": {
      "text/plain": [
       "dict_keys(['plays', 'linescore', 'boxscore', 'decisions'])"
      ]
     },
     "execution_count": 68,
     "metadata": {},
     "output_type": "execute_result"
    }
   ],
   "source": [
    "data[\"liveData\"].keys()\n",
    "#data[\"liveData\"][\"boxscore\"].keys()\n",
    "#data[\"liveData\"][\"boxscore\"][\"teams\"].keys()\n",
    "#data[\"liveData\"][\"decisions\"]"
   ]
  },
  {
   "cell_type": "code",
   "execution_count": 5,
   "metadata": {},
   "outputs": [],
   "source": [
    "data['liveData']['boxscore']['teams']['home']['teamStats']['teamSkaterStats']\n",
    "#goals, pim, shots, powerPlayPercentage, powerPlayGoals, powerPlayOpportunities, faceoffWinPercentage = data['liveData']['boxscore']['teams']['away']['teamStats']['teamSkaterStats']\n",
    "away_team_stats = data['liveData']['boxscore']['teams']['away']['teamStats']['teamSkaterStats']\n",
    "home_team_stats = data['liveData']['boxscore']['teams']['home']['teamStats']['teamSkaterStats']\n"
   ]
  },
  {
   "cell_type": "code",
   "execution_count": 6,
   "metadata": {},
   "outputs": [],
   "source": [
    "home_team_categories = list(home_team_stats.keys())\n",
    "home_team_values = list(home_team_stats.values())\n",
    "away_team_categories = list(away_team_stats.keys())\n",
    "away_team_values = list(away_team_stats.values())"
   ]
  },
  {
   "cell_type": "code",
   "execution_count": 7,
   "metadata": {},
   "outputs": [],
   "source": [
    "home_team_categories = [f\"Home_{i}\" for i in home_team_categories]\n",
    "away_team_categories = [f\"Away_{i}\" for i in away_team_categories]"
   ]
  },
  {
   "cell_type": "code",
   "execution_count": 8,
   "metadata": {},
   "outputs": [],
   "source": [
    "import pandas as pd\n",
    "df = pd.DataFrame(columns = home_team_categories + away_team_categories)\n",
    "df.loc[\"2019020417\"] = home_team_values + away_team_values"
   ]
  },
  {
   "cell_type": "code",
   "execution_count": 9,
   "metadata": {},
   "outputs": [
    {
     "data": {
      "text/html": [
       "<div>\n",
       "<style scoped>\n",
       "    .dataframe tbody tr th:only-of-type {\n",
       "        vertical-align: middle;\n",
       "    }\n",
       "\n",
       "    .dataframe tbody tr th {\n",
       "        vertical-align: top;\n",
       "    }\n",
       "\n",
       "    .dataframe thead th {\n",
       "        text-align: right;\n",
       "    }\n",
       "</style>\n",
       "<table border=\"1\" class=\"dataframe\">\n",
       "  <thead>\n",
       "    <tr style=\"text-align: right;\">\n",
       "      <th></th>\n",
       "      <th>Home_goals</th>\n",
       "      <th>Home_pim</th>\n",
       "      <th>Home_shots</th>\n",
       "      <th>Home_powerPlayPercentage</th>\n",
       "      <th>Home_powerPlayGoals</th>\n",
       "      <th>Home_powerPlayOpportunities</th>\n",
       "      <th>Home_faceOffWinPercentage</th>\n",
       "      <th>Home_blocked</th>\n",
       "      <th>Home_takeaways</th>\n",
       "      <th>Home_giveaways</th>\n",
       "      <th>...</th>\n",
       "      <th>Away_pim</th>\n",
       "      <th>Away_shots</th>\n",
       "      <th>Away_powerPlayPercentage</th>\n",
       "      <th>Away_powerPlayGoals</th>\n",
       "      <th>Away_powerPlayOpportunities</th>\n",
       "      <th>Away_faceOffWinPercentage</th>\n",
       "      <th>Away_blocked</th>\n",
       "      <th>Away_takeaways</th>\n",
       "      <th>Away_giveaways</th>\n",
       "      <th>Away_hits</th>\n",
       "    </tr>\n",
       "  </thead>\n",
       "  <tbody>\n",
       "    <tr>\n",
       "      <th>2019020417</th>\n",
       "      <td>3</td>\n",
       "      <td>4</td>\n",
       "      <td>34</td>\n",
       "      <td>33.3</td>\n",
       "      <td>1.0</td>\n",
       "      <td>3.0</td>\n",
       "      <td>41.1</td>\n",
       "      <td>16</td>\n",
       "      <td>10</td>\n",
       "      <td>4</td>\n",
       "      <td>...</td>\n",
       "      <td>8</td>\n",
       "      <td>29</td>\n",
       "      <td>0.0</td>\n",
       "      <td>0.0</td>\n",
       "      <td>1.0</td>\n",
       "      <td>58.9</td>\n",
       "      <td>12</td>\n",
       "      <td>15</td>\n",
       "      <td>7</td>\n",
       "      <td>28</td>\n",
       "    </tr>\n",
       "  </tbody>\n",
       "</table>\n",
       "<p>1 rows × 22 columns</p>\n",
       "</div>"
      ],
      "text/plain": [
       "           Home_goals Home_pim Home_shots Home_powerPlayPercentage  \\\n",
       "2019020417          3        4         34                     33.3   \n",
       "\n",
       "            Home_powerPlayGoals  Home_powerPlayOpportunities  \\\n",
       "2019020417                  1.0                          3.0   \n",
       "\n",
       "           Home_faceOffWinPercentage Home_blocked Home_takeaways  \\\n",
       "2019020417                      41.1           16             10   \n",
       "\n",
       "           Home_giveaways    ...    Away_pim Away_shots  \\\n",
       "2019020417              4    ...           8         29   \n",
       "\n",
       "           Away_powerPlayPercentage Away_powerPlayGoals  \\\n",
       "2019020417                      0.0                 0.0   \n",
       "\n",
       "           Away_powerPlayOpportunities  Away_faceOffWinPercentage  \\\n",
       "2019020417                         1.0                       58.9   \n",
       "\n",
       "            Away_blocked Away_takeaways Away_giveaways Away_hits  \n",
       "2019020417            12             15              7        28  \n",
       "\n",
       "[1 rows x 22 columns]"
      ]
     },
     "execution_count": 9,
     "metadata": {},
     "output_type": "execute_result"
    }
   ],
   "source": [
    "df"
   ]
  },
  {
   "cell_type": "markdown",
   "metadata": {},
   "source": [
    "# Need to find the final score and identify the home team as features."
   ]
  },
  {
   "cell_type": "code",
   "execution_count": 64,
   "metadata": {},
   "outputs": [
    {
     "data": {
      "text/plain": [
       "{'goals': 1,\n",
       " 'pim': 8,\n",
       " 'shots': 29,\n",
       " 'powerPlayPercentage': '0.0',\n",
       " 'powerPlayGoals': 0.0,\n",
       " 'powerPlayOpportunities': 1.0,\n",
       " 'faceOffWinPercentage': '58.9',\n",
       " 'blocked': 12,\n",
       " 'takeaways': 15,\n",
       " 'giveaways': 7,\n",
       " 'hits': 28}"
      ]
     },
     "execution_count": 64,
     "metadata": {},
     "output_type": "execute_result"
    }
   ],
   "source": [
    "#Not sure I need this\n",
    "type(data['liveData']) #dictionay\n",
    "data['liveData'].keys() # plays, linescore, boxscore, decisions\n",
    "data['liveData']['linescore']\n",
    "data['liveData']['boxscore']['teams']['home'].keys()\n",
    "data['liveData']['boxscore']['teams']['away']['teamStats']\n",
    "data['liveData']['boxscore']['teams']['away']['teamStats']['teamSkaterStats'] #This is good up to here"
   ]
  },
  {
   "cell_type": "markdown",
   "metadata": {},
   "source": [
    "# Find information for next game"
   ]
  },
  {
   "cell_type": "code",
   "execution_count": 113,
   "metadata": {},
   "outputs": [],
   "source": [
    "next_game_link = \"https://statsapi.web.nhl.com/api/v1/teams/6?expand=team.schedule.next\"\n",
    "with urllib.request.urlopen(next_game_link) as url:\n",
    "    data = json.loads(url.read().decode())"
   ]
  },
  {
   "cell_type": "code",
   "execution_count": 114,
   "metadata": {},
   "outputs": [],
   "source": [
    "type(data[\"teams\"]) #list\n",
    "data[\"teams\"][0].keys() #This is a list of 1, so we need the [0] to index it.\n",
    "data[\"teams\"][0][\"nextGameSchedule\"][\"dates\"][0][\"date\"] #This finds the date of the next game\n",
    "next_game_id = data[\"teams\"][0][\"nextGameSchedule\"][\"dates\"][0][\"games\"][0][\"gamePk\"] #This is the game identifier"
   ]
  },
  {
   "cell_type": "code",
   "execution_count": 115,
   "metadata": {},
   "outputs": [],
   "source": [
    "next_game_link = f\"https://statsapi.web.nhl.com/api/v1/game/{next_game_id}/feed/live\"\n",
    "with urllib.request.urlopen(next_game_link) as url:\n",
    "    data = json.loads(url.read().decode())"
   ]
  },
  {
   "cell_type": "code",
   "execution_count": 95,
   "metadata": {},
   "outputs": [
    {
     "data": {
      "text/plain": [
       "{'currentPeriod': 1,\n",
       " 'currentPeriodOrdinal': '1st',\n",
       " 'currentPeriodTimeRemaining': '10:51',\n",
       " 'periods': [{'periodType': 'REGULAR',\n",
       "   'startTime': '2019-12-28T00:08:46Z',\n",
       "   'num': 1,\n",
       "   'ordinalNum': '1st',\n",
       "   'home': {'goals': 0, 'shotsOnGoal': 7, 'rinkSide': 'left'},\n",
       "   'away': {'goals': 0, 'shotsOnGoal': 5, 'rinkSide': 'right'}}],\n",
       " 'shootoutInfo': {'away': {'scores': 0, 'attempts': 0},\n",
       "  'home': {'scores': 0, 'attempts': 0}},\n",
       " 'teams': {'home': {'team': {'id': 7,\n",
       "    'name': 'Buffalo Sabres',\n",
       "    'link': '/api/v1/teams/7',\n",
       "    'abbreviation': 'BUF',\n",
       "    'triCode': 'BUF'},\n",
       "   'goals': 0,\n",
       "   'shotsOnGoal': 7,\n",
       "   'goaliePulled': False,\n",
       "   'numSkaters': 5,\n",
       "   'powerPlay': False},\n",
       "  'away': {'team': {'id': 6,\n",
       "    'name': 'Boston Bruins',\n",
       "    'link': '/api/v1/teams/6',\n",
       "    'abbreviation': 'BOS',\n",
       "    'triCode': 'BOS'},\n",
       "   'goals': 0,\n",
       "   'shotsOnGoal': 5,\n",
       "   'goaliePulled': False,\n",
       "   'numSkaters': 5,\n",
       "   'powerPlay': False}},\n",
       " 'powerPlayStrength': 'Even',\n",
       " 'hasShootout': False,\n",
       " 'intermissionInfo': {'intermissionTimeRemaining': 0,\n",
       "  'intermissionTimeElapsed': 0,\n",
       "  'inIntermission': False},\n",
       " 'powerPlayInfo': {'situationTimeRemaining': 651,\n",
       "  'situationTimeElapsed': 31,\n",
       "  'inSituation': False}}"
      ]
     },
     "execution_count": 95,
     "metadata": {},
     "output_type": "execute_result"
    }
   ],
   "source": [
    "data.keys()\n",
    "data[\"liveData\"].keys()\n",
    "#data[\"liveData\"][\"plays\"]\n",
    "#data[\"liveData\"][\"boxscore\"]\n",
    "data[\"liveData\"][\"linescore\"].keys()\n",
    "data[\"liveData\"][\"linescore\"] #currentpreiod: 1; currentPreiodOrdinal : '1st'"
   ]
  },
  {
   "cell_type": "code",
   "execution_count": 122,
   "metadata": {},
   "outputs": [
    {
     "name": "stdout",
     "output_type": "stream",
     "text": [
      "1\n",
      "1st\n"
     ]
    },
    {
     "data": {
      "text/plain": [
       "True"
      ]
     },
     "execution_count": 122,
     "metadata": {},
     "output_type": "execute_result"
    }
   ],
   "source": [
    "data[\"liveData\"][\"linescore\"][\"currentPeriod\"] == 1 and data[\"liveData\"][\"linescore\"][\"currentPeriodTimeRemaining\"] == \"END\" \n",
    "print(data[\"liveData\"][\"linescore\"][\"currentPeriod\"])\n",
    "print(data[\"liveData\"][\"linescore\"][\"currentPeriodOrdinal\"])\n",
    "data[\"liveData\"][\"linescore\"][\"currentPeriod\"] == 1 and data[\"liveData\"][\"linescore\"][\"currentPeriodTimeRemaining\"] == \"END\" \n"
   ]
  },
  {
   "cell_type": "code",
   "execution_count": 123,
   "metadata": {},
   "outputs": [],
   "source": [
    "if data[\"liveData\"][\"linescore\"][\"currentPeriod\"] == 1 and data[\"liveData\"][\"linescore\"][\"currentPeriodTimeRemaining\"] == \"END\": \n",
    "    away_team_stats = data['liveData']['boxscore']['teams']['away']['teamStats']['teamSkaterStats']\n",
    "    home_team_stats = data['liveData']['boxscore']['teams']['home']['teamStats']['teamSkaterStats']\n",
    "    home_team_categories = list(home_team_stats.keys())\n",
    "    home_team_values = list(home_team_stats.values())\n",
    "    away_team_categories = list(away_team_stats.keys())\n",
    "    away_team_values = list(away_team_stats.values())\n",
    "    home_team_categories = [f\"Home_{i}\" for i in home_team_categories]\n",
    "    away_team_categories = [f\"Away_{i}\" for i in away_team_categories]\n",
    "    import pandas as pd\n",
    "    df = pd.DataFrame(columns = home_team_categories + away_team_categories)\n",
    "    df.loc[str(next_game_id)] = home_team_values + away_team_values"
   ]
  },
  {
   "cell_type": "code",
   "execution_count": 124,
   "metadata": {},
   "outputs": [
    {
     "data": {
      "text/html": [
       "<div>\n",
       "<style scoped>\n",
       "    .dataframe tbody tr th:only-of-type {\n",
       "        vertical-align: middle;\n",
       "    }\n",
       "\n",
       "    .dataframe tbody tr th {\n",
       "        vertical-align: top;\n",
       "    }\n",
       "\n",
       "    .dataframe thead th {\n",
       "        text-align: right;\n",
       "    }\n",
       "</style>\n",
       "<table border=\"1\" class=\"dataframe\">\n",
       "  <thead>\n",
       "    <tr style=\"text-align: right;\">\n",
       "      <th></th>\n",
       "      <th>Home_goals</th>\n",
       "      <th>Home_pim</th>\n",
       "      <th>Home_shots</th>\n",
       "      <th>Home_powerPlayPercentage</th>\n",
       "      <th>Home_powerPlayGoals</th>\n",
       "      <th>Home_powerPlayOpportunities</th>\n",
       "      <th>Home_faceOffWinPercentage</th>\n",
       "      <th>Home_blocked</th>\n",
       "      <th>Home_takeaways</th>\n",
       "      <th>Home_giveaways</th>\n",
       "      <th>...</th>\n",
       "      <th>Away_pim</th>\n",
       "      <th>Away_shots</th>\n",
       "      <th>Away_powerPlayPercentage</th>\n",
       "      <th>Away_powerPlayGoals</th>\n",
       "      <th>Away_powerPlayOpportunities</th>\n",
       "      <th>Away_faceOffWinPercentage</th>\n",
       "      <th>Away_blocked</th>\n",
       "      <th>Away_takeaways</th>\n",
       "      <th>Away_giveaways</th>\n",
       "      <th>Away_hits</th>\n",
       "    </tr>\n",
       "  </thead>\n",
       "  <tbody>\n",
       "    <tr>\n",
       "      <th>2019020582</th>\n",
       "      <td>0</td>\n",
       "      <td>4</td>\n",
       "      <td>11</td>\n",
       "      <td>0.0</td>\n",
       "      <td>0.0</td>\n",
       "      <td>1.0</td>\n",
       "      <td>57.1</td>\n",
       "      <td>0</td>\n",
       "      <td>4</td>\n",
       "      <td>3</td>\n",
       "      <td>...</td>\n",
       "      <td>2</td>\n",
       "      <td>8</td>\n",
       "      <td>50.0</td>\n",
       "      <td>1.0</td>\n",
       "      <td>2.0</td>\n",
       "      <td>42.9</td>\n",
       "      <td>4</td>\n",
       "      <td>1</td>\n",
       "      <td>1</td>\n",
       "      <td>5</td>\n",
       "    </tr>\n",
       "  </tbody>\n",
       "</table>\n",
       "<p>1 rows × 22 columns</p>\n",
       "</div>"
      ],
      "text/plain": [
       "           Home_goals Home_pim Home_shots Home_powerPlayPercentage  \\\n",
       "2019020582          0        4         11                      0.0   \n",
       "\n",
       "            Home_powerPlayGoals  Home_powerPlayOpportunities  \\\n",
       "2019020582                  0.0                          1.0   \n",
       "\n",
       "           Home_faceOffWinPercentage Home_blocked Home_takeaways  \\\n",
       "2019020582                      57.1            0              4   \n",
       "\n",
       "           Home_giveaways    ...    Away_pim Away_shots  \\\n",
       "2019020582              3    ...           2          8   \n",
       "\n",
       "           Away_powerPlayPercentage Away_powerPlayGoals  \\\n",
       "2019020582                     50.0                 1.0   \n",
       "\n",
       "           Away_powerPlayOpportunities  Away_faceOffWinPercentage  \\\n",
       "2019020582                         2.0                       42.9   \n",
       "\n",
       "            Away_blocked Away_takeaways Away_giveaways Away_hits  \n",
       "2019020582             4              1              1         5  \n",
       "\n",
       "[1 rows x 22 columns]"
      ]
     },
     "execution_count": 124,
     "metadata": {},
     "output_type": "execute_result"
    }
   ],
   "source": [
    "df"
   ]
  },
  {
   "cell_type": "code",
   "execution_count": null,
   "metadata": {},
   "outputs": [],
   "source": []
  }
 ],
 "metadata": {
  "kernelspec": {
   "display_name": "Python 3",
   "language": "python",
   "name": "python3"
  },
  "language_info": {
   "codemirror_mode": {
    "name": "ipython",
    "version": 3
   },
   "file_extension": ".py",
   "mimetype": "text/x-python",
   "name": "python",
   "nbconvert_exporter": "python",
   "pygments_lexer": "ipython3",
   "version": "3.7.1"
  }
 },
 "nbformat": 4,
 "nbformat_minor": 2
}
