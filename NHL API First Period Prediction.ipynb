{
 "cells": [
  {
   "cell_type": "code",
   "execution_count": 1,
   "metadata": {},
   "outputs": [],
   "source": [
    "import urllib.request, json "
   ]
  },
  {
   "cell_type": "code",
   "execution_count": 2,
   "metadata": {},
   "outputs": [],
   "source": [
    "#link = \"https://statsapi.web.nhl.com/api/v1/teams/8\"\n",
    "link = \"https://statsapi.web.nhl.com/api/v1/game/2019020417/feed/live\" #all available stats from game\n",
    "#link = \"https://statsapi.web.nhl.com/api/v1/game/2019020417/boxscore\" #boxscore"
   ]
  },
  {
   "cell_type": "code",
   "execution_count": 3,
   "metadata": {},
   "outputs": [],
   "source": [
    "with urllib.request.urlopen(link) as url:\n",
    "    data = json.loads(url.read().decode())"
   ]
  },
  {
   "cell_type": "code",
   "execution_count": 4,
   "metadata": {},
   "outputs": [
    {
     "data": {
      "text/plain": [
       "dict_keys(['copyright', 'gamePk', 'link', 'metaData', 'gameData', 'liveData'])"
      ]
     },
     "execution_count": 4,
     "metadata": {},
     "output_type": "execute_result"
    }
   ],
   "source": [
    "data.keys()"
   ]
  },
  {
   "cell_type": "code",
   "execution_count": 25,
   "metadata": {},
   "outputs": [
    {
     "data": {
      "text/plain": [
       "{'goals': 1,\n",
       " 'pim': 8,\n",
       " 'shots': 29,\n",
       " 'powerPlayPercentage': '0.0',\n",
       " 'powerPlayGoals': 0.0,\n",
       " 'powerPlayOpportunities': 1.0,\n",
       " 'faceOffWinPercentage': '58.9',\n",
       " 'blocked': 12,\n",
       " 'takeaways': 15,\n",
       " 'giveaways': 7,\n",
       " 'hits': 28}"
      ]
     },
     "execution_count": 25,
     "metadata": {},
     "output_type": "execute_result"
    }
   ],
   "source": [
    "type(data['liveData']) #dictionay\n",
    "data['liveData'].keys() # plays, linescore, boxscore, decisions\n",
    "data['liveData']['linescore']\n",
    "data['liveData']['boxscore']['teams']['home'].keys()\n",
    "data['liveData']['boxscore']['teams']['away']['teamStats']\n",
    "data['liveData']['boxscore']['teams']['away']['teamStats']['teamSkaterStats'] #This is good up to here"
   ]
  },
  {
   "cell_type": "code",
   "execution_count": 38,
   "metadata": {},
   "outputs": [],
   "source": [
    "data['liveData']['boxscore']['teams']['home']['teamStats']['teamSkaterStats']\n",
    "#goals, pim, shots, powerPlayPercentage, powerPlayGoals, powerPlayOpportunities, faceoffWinPercentage = data['liveData']['boxscore']['teams']['away']['teamStats']['teamSkaterStats']\n",
    "away_team_stats = data['liveData']['boxscore']['teams']['away']['teamStats']['teamSkaterStats']\n"
   ]
  },
  {
   "cell_type": "code",
   "execution_count": 47,
   "metadata": {},
   "outputs": [],
   "source": [
    "home_team_categories = list(away_team_stats.keys())\n",
    "home_team_values = list(away_team_stats.values())"
   ]
  },
  {
   "cell_type": "code",
   "execution_count": 48,
   "metadata": {},
   "outputs": [
    {
     "data": {
      "text/plain": [
       "['goals',\n",
       " 'pim',\n",
       " 'shots',\n",
       " 'powerPlayPercentage',\n",
       " 'powerPlayGoals',\n",
       " 'powerPlayOpportunities',\n",
       " 'faceOffWinPercentage',\n",
       " 'blocked',\n",
       " 'takeaways',\n",
       " 'giveaways',\n",
       " 'hits']"
      ]
     },
     "execution_count": 48,
     "metadata": {},
     "output_type": "execute_result"
    }
   ],
   "source": [
    "home_team_categories"
   ]
  },
  {
   "cell_type": "code",
   "execution_count": null,
   "metadata": {},
   "outputs": [],
   "source": []
  }
 ],
 "metadata": {
  "kernelspec": {
   "display_name": "Python 3",
   "language": "python",
   "name": "python3"
  },
  "language_info": {
   "codemirror_mode": {
    "name": "ipython",
    "version": 3
   },
   "file_extension": ".py",
   "mimetype": "text/x-python",
   "name": "python",
   "nbconvert_exporter": "python",
   "pygments_lexer": "ipython3",
   "version": "3.7.1"
  }
 },
 "nbformat": 4,
 "nbformat_minor": 2
}
