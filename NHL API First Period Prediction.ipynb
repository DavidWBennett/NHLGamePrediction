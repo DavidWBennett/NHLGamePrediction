{
 "cells": [
  {
   "cell_type": "markdown",
   "metadata": {},
   "source": [
    "# Load necessary packages"
   ]
  },
  {
   "cell_type": "code",
   "execution_count": 20,
   "metadata": {},
   "outputs": [],
   "source": [
    "import urllib.request, json \n",
    "import pandas as pd\n",
    "from datetime import datetime, timezone\n",
    "import time\n",
    "from dateutil.parser import parse"
   ]
  },
  {
   "cell_type": "markdown",
   "metadata": {},
   "source": [
    "# Find all the game ids for games being played today"
   ]
  },
  {
   "cell_type": "code",
   "execution_count": 22,
   "metadata": {},
   "outputs": [
    {
     "name": "stdout",
     "output_type": "stream",
     "text": [
      "Number of Games on 2020-1-2: 12\n",
      "Game Ids:  [2019020635, 2019020636, 2019020634, 2019020637, 2019020638, 2019020627, 2019020628, 2019020629, 2019020630, 2019020631, 2019020632, 2019020633]\n"
     ]
    }
   ],
   "source": [
    "todays_date = str(datetime.today().year) + \"-\" + str(datetime.today().month) + \"-\" + str(datetime.today().day)\n",
    "games_links = f\"https://statsapi.web.nhl.com/api/v1/schedule?startDate={todays_date}&endDate={todays_date}\"\n",
    "#games_links = f\"https://statsapi.web.nhl.com/api/v1/schedule?startDate=2020-01-02&endDate=2020-01-02\"\n",
    "with urllib.request.urlopen(games_links) as url:\n",
    "    dates = json.loads(url.read().decode())\n",
    "num_of_games = dates[\"totalGames\"]\n",
    "games_id_list = [dates[\"dates\"][0][\"games\"][i][\"gamePk\"] for i in range(num_of_games)]\n",
    "#games_id_list.sort() #Need to order the game id list so the start times are in order.\n",
    "print(f\"Number of Games on {todays_date}:\", len(games_id_list))\n",
    "print(\"Game Ids: \", games_id_list)"
   ]
  },
  {
   "cell_type": "markdown",
   "metadata": {},
   "source": [
    "# Find the difference in seconds between the different start times"
   ]
  },
  {
   "cell_type": "code",
   "execution_count": 34,
   "metadata": {},
   "outputs": [
    {
     "name": "stdout",
     "output_type": "stream",
     "text": [
      "[2019020637, 2019020638]\n"
     ]
    }
   ],
   "source": [
    "#Use this to only look at select games\n",
    "#games_id_list = [2019020637, 2019020638]#, 2019020608]\n",
    "#games_id_list = games_id_list[:8]\n",
    "print(games_id_list)"
   ]
  },
  {
   "cell_type": "code",
   "execution_count": 23,
   "metadata": {},
   "outputs": [
    {
     "name": "stdout",
     "output_type": "stream",
     "text": [
      "{'2019020635': '2020-01-03T02:00:00Z', '2019020636': '2020-01-03T02:00:00Z', '2019020634': '2020-01-03T02:30:00Z', '2019020637': '2020-01-03T03:00:00Z', '2019020638': '2020-01-03T03:00:00Z', '2019020627': '2020-01-03T00:00:00Z', '2019020628': '2020-01-03T00:00:00Z', '2019020629': '2020-01-03T00:00:00Z', '2019020630': '2020-01-03T00:00:00Z', '2019020631': '2020-01-03T00:00:00Z', '2019020632': '2020-01-03T00:30:00Z', '2019020633': '2020-01-03T01:00:00Z'}\n"
     ]
    }
   ],
   "source": [
    "if len(games_id_list) > 1:\n",
    "    start_times = []\n",
    "    game_start_dict = {}\n",
    "    for game_id in games_id_list:\n",
    "        with urllib.request.urlopen(f\"https://statsapi.web.nhl.com/api/v1/game/{game_id}/feed/live\") as url:\n",
    "            data = json.loads(url.read().decode())\n",
    "        start_time = data[\"gameData\"][\"datetime\"][\"dateTime\"]\n",
    "        game_start_dict[str(game_id)] = start_time\n",
    "        start_time = parse(start_time)\n",
    "        start_times.append(start_time)\n",
    "        start_times = sorted(start_times)\n",
    "    delta_seconds_start_times = [(start_times[i+1]- start_times[i]).total_seconds() for i in range(len(start_times)-1)]\n",
    "else:\n",
    "    delta_seconds_start_times = [0]\n",
    "#print(len(delta_seconds_start_times))\n",
    "#print(delta_seconds_start_times)\n",
    "# Solution to sorting a dict found here: https://stackoverflow.com/questions/613183/how-do-i-sort-a-dictionary-by-value\n",
    "game_start_dict = {k : v for k, v in sorted(game_start_dict.items(), key=lambda item: item[1])}\n",
    "games_id_list =[int(j) for j in [k for k in game_start_dict.keys()]]"
   ]
  },
  {
   "cell_type": "markdown",
   "metadata": {},
   "source": [
    "# Find all the first period stats for the games being played today"
   ]
  },
  {
   "cell_type": "code",
   "execution_count": 19,
   "metadata": {},
   "outputs": [],
   "source": [
    "#Extract the win, loss, OT records for each team playing.\n",
    "def _team_records(game_id):  \n",
    "    \"\"\"This function is used to extract the team records for the teams playing today.\"\"\"\n",
    "    game_link = f\"https://statsapi.web.nhl.com/api/v1/game/{game_id}/feed/live\"\n",
    "    with urllib.request.urlopen(game_link) as url:\n",
    "        data = json.loads(url.read().decode())\n",
    "    away_team_id = data[\"gameData\"][\"teams\"][\"away\"][\"id\"]\n",
    "    home_team_id = data[\"gameData\"][\"teams\"][\"home\"][\"id\"]\n",
    "    for team_id in ([away_team_id] + [home_team_id]):\n",
    "        team_link = f\"https://statsapi.web.nhl.com/api/v1/schedule?teamId={team_id}\"\n",
    "        with urllib.request.urlopen(team_link) as url:\n",
    "            team_id_data = json.loads(url.read().decode())\n",
    "        home_record = list(team_id_data[\"dates\"][0][\"games\"][0][\"teams\"][\"home\"][\"leagueRecord\"].values())[:3]\n",
    "        away_record = list(team_id_data[\"dates\"][0][\"games\"][0][\"teams\"][\"away\"][\"leagueRecord\"].values())[:3]\n",
    "    return(home_record + away_record)"
   ]
  },
  {
   "cell_type": "code",
   "execution_count": 20,
   "metadata": {},
   "outputs": [],
   "source": [
    "#df.loc[str(game_id)] = home_team + away_team + team_records + home_team_values + away_team_values\n",
    "def differences(df):\n",
    "    \"\"\"Used to calculate the feature differences between the home and away teams, and to\n",
    "    convert the percentage features to numeric.\"\"\"\n",
    "    df[\"Win_Diff\"] = df[\"Home_wins\"] - df[\"Away_wins\"]\n",
    "    df[\"Loss_Diff\"] = df[\"Home_losses\"] - df[\"Away_losses\"]\n",
    "    df[\"OT_Diff\"] = df[\"Home_OT\"] - df[\"Away_OT\"]\n",
    "    df[\"Goals_Diff\"] = df[\"Home_goals\"] - df[\"Away_goals\"]\n",
    "    df[\"Shots_Diff\"] = df[\"Home_shots\"] - df[\"Away_shots\"]\n",
    "    df[\"Blocked_Diff\"] = df[\"Home_blocked\"] - df[\"Away_blocked\"]\n",
    "    df[\"PIM_Diff\"] = df[\"Home_pim\"] - df[\"Away_pim\"]\n",
    "    df[\"PowerPlayGoals_Diff\"] = df[\"Home_powerPlayGoals\"] - df[\"Away_powerPlayGoals\"]\n",
    "    df[\"Takeaways_Diff\"] = df[\"Home_takeaways\"] - df[\"Away_takeaways\"]\n",
    "    df[\"Giveaways_Diff\"] = df[\"Home_giveaways\"] - df[\"Away_giveaways\"]\n",
    "    df[\"Hits_Diff\"] = df[\"Home_hits\"] - df[\"Away_hits\"]\n",
    "    df[\"Home_powerPlayPercentage\"] = pd.to_numeric(df[\"Home_powerPlayPercentage\"])/100\n",
    "    df[\"Away_powerPlayPercentage\"] = pd.to_numeric(df[\"Away_powerPlayPercentage\"])/100\n",
    "    df[\"Home_faceOffWinPercentage\"] = pd.to_numeric(df[\"Home_faceOffWinPercentage\"])/100\n",
    "    df[\"Away_faceOffWinPercentage\"] = pd.to_numeric(df[\"Away_faceOffWinPercentage\"])/100\n",
    "    return(df)"
   ]
  },
  {
   "cell_type": "code",
   "execution_count": 35,
   "metadata": {},
   "outputs": [
    {
     "name": "stdout",
     "output_type": "stream",
     "text": [
      "Game  1 / 2 . ID: 2019020637 completed at:  20 : 0\n",
      "Game  2 / 2 . ID: 2019020638 completed at:  20 : 1\n",
      "           Home_team Away_team Home_wins Home_losses Home_OT Away_wins  \\\n",
      "2019020637       VAN       CHI        21          15       4        18   \n",
      "2019020638       VGK       PHI        22          15       6        22   \n",
      "\n",
      "           Away_losses Away_OT Home_goals Home_pim  ... Away_pim Away_shots  \\\n",
      "2019020637          17       6          1        4  ...        2         12   \n",
      "2019020638          13       5          4        0  ...        2         12   \n",
      "\n",
      "            Away_powerPlayPercentage  Away_powerPlayGoals  \\\n",
      "2019020637                       0.0                  0.0   \n",
      "2019020638                       0.0                  0.0   \n",
      "\n",
      "           Away_powerPlayOpportunities Away_faceOffWinPercentage Away_blocked  \\\n",
      "2019020637                         2.0                      50.0            6   \n",
      "2019020638                         0.0                      62.5            2   \n",
      "\n",
      "           Away_takeaways Away_giveaways Away_hits  \n",
      "2019020637              2              0         4  \n",
      "2019020638              2              0        15  \n",
      "\n",
      "[2 rows x 30 columns]\n"
     ]
    }
   ],
   "source": [
    "game_counter = 0\n",
    "df = pd.DataFrame(columns = [i for i in range(30)])\n",
    "for game_id in games_id_list:\n",
    "    Period = 0 \n",
    "    Start_time_counter = 0\n",
    "    while Period < 1:\n",
    "        game_link = f\"https://statsapi.web.nhl.com/api/v1/game/{game_id}/feed/live\"\n",
    "        with urllib.request.urlopen(game_link) as url:\n",
    "            data = json.loads(url.read().decode())\n",
    "        if data[\"liveData\"][\"linescore\"][\"currentPeriod\"] == 1 and data[\"liveData\"][\"linescore\"][\"currentPeriodTimeRemaining\"] == \"END\": \n",
    "            team_record = _team_records(game_id)\n",
    "            some_columns = [\"Home_team\", \"Away_team\", \"Home_wins\", \"Home_losses\", \"Home_OT\", \"Away_wins\", \"Away_losses\", \"Away_OT\"]\n",
    "            home_team_categories = list(data['liveData']['boxscore']['teams']['home']['teamStats']['teamSkaterStats'].keys())\n",
    "            away_team_categories = list(data['liveData']['boxscore']['teams']['away']['teamStats']['teamSkaterStats'].keys())\n",
    "            home_team_categories = [f\"Home_{i}\" for i in home_team_categories]\n",
    "            away_team_categories = [f\"Away_{i}\" for i in away_team_categories]\n",
    "            home_team = [data[\"gameData\"][\"teams\"][\"home\"][\"triCode\"]]\n",
    "            away_team = [data[\"gameData\"][\"teams\"][\"away\"][\"triCode\"]]\n",
    "            df.columns = some_columns + home_team_categories + away_team_categories\n",
    "            away_team_stats = data['liveData']['boxscore']['teams']['away']['teamStats']['teamSkaterStats']\n",
    "            home_team_stats = data['liveData']['boxscore']['teams']['home']['teamStats']['teamSkaterStats']\n",
    "            home_team_values = list(home_team_stats.values())\n",
    "            away_team_values = list(away_team_stats.values())\n",
    "            df.loc[str(game_id)] = home_team + away_team + team_record + home_team_values + away_team_values\n",
    "            Period = 1\n",
    "            game_counter += 1\n",
    "            print(\"Game \", str(game_counter) ,\"/\", str(len(games_id_list)), f\". ID: {game_id} completed at: \", str(datetime.today().hour), \":\", str(datetime.today().minute))\n",
    "            time.sleep(delta_seconds_start_times[Start_time_counter])\n",
    "            Start_time_counter += 1\n",
    "            df.to_csv(f\"C:\\\\Users\\\\David\\\\OneDrive\\\\Documents\\\\OneDrive\\\\NHL API First period Prediction\\\\{todays_date}_raw.csv\", index = True)\n",
    "        else:\n",
    "            Period = 0\n",
    "            print(\"Check Point: \", datetime.today().hour, \":\", datetime.today().minute)\n",
    "            time.sleep(300) "
   ]
  },
  {
   "cell_type": "code",
   "execution_count": 36,
   "metadata": {},
   "outputs": [
    {
     "name": "stdout",
     "output_type": "stream",
     "text": [
      "           Home_team Away_team Home_wins Home_losses Home_OT Away_wins  \\\n",
      "2019020637       VAN       CHI        21          15       4        18   \n",
      "2019020638       VGK       PHI        22          15       6        22   \n",
      "\n",
      "           Away_losses Away_OT Home_goals Home_pim  ... Loss_Diff  OT_Diff  \\\n",
      "2019020637          17       6          1        4  ...        -2       -2   \n",
      "2019020638          13       5          4        0  ...         2        1   \n",
      "\n",
      "            Goals_Diff  Shots_Diff  Blocked_Diff PIM_Diff PowerPlayGoals_Diff  \\\n",
      "2019020637           0          -5            -4        2                 0.0   \n",
      "2019020638           2           6             2       -2                 1.0   \n",
      "\n",
      "           Takeaways_Diff Giveaways_Diff Hits_Diff  \n",
      "2019020637              1              2         4  \n",
      "2019020638              2              1         0  \n",
      "\n",
      "[2 rows x 41 columns]\n"
     ]
    }
   ],
   "source": [
    "df_all_features = differences(df)\n",
    "print(df_all_features)\n",
    "df_all_features.to_csv(f\"C:\\\\Users\\\\David\\\\OneDrive\\\\Documents\\\\OneDrive\\\\NHL API First period Prediction\\\\{todays_date}_df_all_features.csv\", index = True)"
   ]
  },
  {
   "cell_type": "markdown",
   "metadata": {},
   "source": [
    "# Report the Winner"
   ]
  },
  {
   "cell_type": "code",
   "execution_count": 37,
   "metadata": {},
   "outputs": [
    {
     "name": "stdout",
     "output_type": "stream",
     "text": [
      "CHI Wins\n",
      "VGK Wins\n"
     ]
    }
   ],
   "source": [
    "for game_id in games_id_list:\n",
    "    game_link = f\"https://statsapi.web.nhl.com/api/v1/game/{game_id}/feed/live\"\n",
    "    with urllib.request.urlopen(game_link) as url:\n",
    "        data = json.loads(url.read().decode())\n",
    "    home_team = data[\"gameData\"][\"teams\"][\"home\"][\"triCode\"]\n",
    "    away_team = data[\"gameData\"][\"teams\"][\"away\"][\"triCode\"]\n",
    "    num_periods = len(data[\"liveData\"][\"linescore\"][\"periods\"])\n",
    "    if data[\"liveData\"][\"linescore\"][\"hasShootout\"] == False:\n",
    "        if sum([int(data[\"liveData\"][\"linescore\"][\"periods\"][i][\"home\"][\"goals\"]) for i in range(num_periods)]) > \\\n",
    "            sum([int(data[\"liveData\"][\"linescore\"][\"periods\"][i][\"away\"][\"goals\"]) for i in range(num_periods)]):#2 for the third period, using 0 indexing\n",
    "            print(f\"{home_team} Wins\")\n",
    "            df_all_features.loc[str(game_id), \"Winner\"] = home_team\n",
    "            df_all_features.loc[str(game_id), \"Winner_binary\"] = 0\n",
    "        else: \n",
    "            print(f\"{away_team} Wins\")\n",
    "            df_all_features.loc[str(game_id), \"Winner\"] = away_team\n",
    "            df_all_features.loc[str(game_id), \"Winner_binary\"] = 1\n",
    "    else:\n",
    "        if int(data[\"liveData\"][\"linescore\"][\"shootoutInfo\"][\"home\"][\"scores\"]) > \\\n",
    "            int(data[\"liveData\"][\"linescore\"][\"shootoutInfo\"][\"away\"][\"scores\"]):#2 for the third period, using 0 indexing\n",
    "            print(f\"{home_team} Wins\")\n",
    "            df_all_features.loc[str(game_id), \"Winner\"] = home_team\n",
    "            df_all_features.loc[str(game_id), \"Winner_binary\"] = 0\n",
    "        else: \n",
    "            print(f\"{away_team} Wins\")\n",
    "            df_all_features.loc[str(game_id), \"Winner\"] = away_team\n",
    "            df_all_features.loc[str(game_id), \"Winner_binary\"] = 1"
   ]
  },
  {
   "cell_type": "markdown",
   "metadata": {},
   "source": [
    "# Prepare the final dataset for analysis by converting everything to floats"
   ]
  },
  {
   "cell_type": "code",
   "execution_count": 38,
   "metadata": {},
   "outputs": [],
   "source": [
    "df_all_features_copy = df_all_features.copy()\n",
    "df_all_features = df_all_features.drop(columns = [\"Home_team\", \"Away_team\", \"Winner\"])\n",
    "df_all_features.astype(float)\n",
    "df_all_features.to_csv(f\"C:\\\\Users\\\\David\\\\OneDrive\\\\Documents\\\\OneDrive\\\\NHL API First period Prediction\\\\{todays_date}_df_all_features_winner.csv\", index = True)"
   ]
  },
  {
   "cell_type": "code",
   "execution_count": null,
   "metadata": {},
   "outputs": [],
   "source": []
  }
 ],
 "metadata": {
  "kernelspec": {
   "display_name": "Python 3",
   "language": "python",
   "name": "python3"
  },
  "language_info": {
   "codemirror_mode": {
    "name": "ipython",
    "version": 3
   },
   "file_extension": ".py",
   "mimetype": "text/x-python",
   "name": "python",
   "nbconvert_exporter": "python",
   "pygments_lexer": "ipython3",
   "version": "3.7.5"
  }
 },
 "nbformat": 4,
 "nbformat_minor": 2
}
